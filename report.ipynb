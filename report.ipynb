{
 "cells": [
  {
   "cell_type": "markdown",
   "id": "9d97dcbd-a2e0-4036-839c-993e2eb7b05d",
   "metadata": {},
   "source": [
    "# Sanity checks \n",
    "\n",
    "This notebook reports the following: \n",
    "\n",
    "- Items with duplicate pdf-files\n",
    "- Items *without*  pdf-files\n",
    "- Trash status: empty or not\n",
    "- Standalone items: pdf-files or notes\n",
    "- Report items with no DOI **and** no ISBN\n",
    "- Report duplicate items based on: \n",
    "  - DOI/ISBN\n",
    "  - Title"
   ]
  },
  {
   "cell_type": "code",
   "execution_count": null,
   "id": "93650bb4-0879-463f-9426-67eba81e20fb",
   "metadata": {},
   "outputs": [],
   "source": [
    "%run config.ipynb"
   ]
  },
  {
   "cell_type": "markdown",
   "id": "8199e841-5c88-41bd-8a08-89d5fac2cad7",
   "metadata": {
    "tags": []
   },
   "source": [
    "# Retrieve data from server "
   ]
  },
  {
   "cell_type": "code",
   "execution_count": null,
   "id": "db73c92b-7438-4514-9b35-9b7cfcedc7a5",
   "metadata": {},
   "outputs": [],
   "source": [
    "%%time\n",
    "zot, lib_items = retrieve_data()"
   ]
  },
  {
   "cell_type": "markdown",
   "id": "cbffc955-de22-47bb-9713-e8d7fca159a9",
   "metadata": {
    "tags": []
   },
   "source": [
    "# Calculation\n",
    "\n",
    "Generate a list for items with duplicate pdf files\n",
    "<a id='fetch-duplicate-pdf'></a>\n",
    "\n",
    "This cell makes many calls to the server (retrieving per item children), therefore it might be a bit slow!\n",
    "\n",
    "So, patience ..."
   ]
  },
  {
   "cell_type": "code",
   "execution_count": null,
   "id": "4dbe16a6-7c86-4e8f-9389-6bb34441c74e",
   "metadata": {
    "tags": [
     "fetch-duplicates"
    ]
   },
   "outputs": [],
   "source": [
    "%%time\n",
    "log.info(\"Resolving items with duplicate pdf attachments ...\")\n",
    "items_duplicate_attach, pdf_attachments = get_items_with_duplicate_pdf(zot, lib_items)"
   ]
  },
  {
   "cell_type": "code",
   "execution_count": null,
   "id": "4e1229d4-5964-4e66-b131-ab11a45e0523",
   "metadata": {
    "tags": [
     "fetch-duplicates"
    ]
   },
   "outputs": [],
   "source": [
    "num_duplicates = len(items_duplicate_attach)\n",
    "\n",
    "if num_duplicates:\n",
    "    log.warning(f\"Got: {num_duplicates} items:\")\n",
    "    STATUS_OK = False\n",
    "    for item in items_duplicate_attach:\n",
    "        log_title(item)\n",
    "\n",
    "else:\n",
    "    log.info(f\"Found: {num_duplicates} items:\")\n",
    "    \n",
    "log.info(\"Done!\")"
   ]
  },
  {
   "cell_type": "markdown",
   "id": "e6fac010-5647-456a-bbf2-c6ba1a423ab0",
   "metadata": {
    "tags": []
   },
   "source": [
    "# Report items with multiple attachments\n",
    "\n",
    "Multiple attachments are ok.  \n",
    "We are looking for duplicate pdf files.   \n"
   ]
  },
  {
   "cell_type": "code",
   "execution_count": null,
   "id": "21a180b3-21f0-4471-9b21-9dfca6b5f28c",
   "metadata": {},
   "outputs": [],
   "source": [
    "num_duplicates = len(items_duplicate_attach)\n",
    "\n",
    "if num_duplicates:\n",
    "    log.warning(f\"Found {num_duplicates} items with duplicate pdf files:\")\n",
    "    STATUS_OK = False\n",
    "    for item in items_duplicate_attach:\n",
    "        log_title(item)\n",
    "\n",
    "else:\n",
    "    log.info(f\"no items with duplicate pdf files found\")\n",
    "    \n",
    "log.info(\"Done!\")"
   ]
  },
  {
   "cell_type": "markdown",
   "id": "297928a7-467e-496f-8ab5-18d145adcf56",
   "metadata": {},
   "source": [
    "# Report items without pdfs \n",
    "\n",
    "This cell makes many calls to the server (retrieving per item children), therefore it might be a bit slow!\n",
    "\n",
    "So, patience ..."
   ]
  },
  {
   "cell_type": "code",
   "execution_count": null,
   "id": "01afbf52-d801-4dca-a4c6-4d5e727b727e",
   "metadata": {},
   "outputs": [],
   "source": [
    "%%time\n",
    "log.info(\"Retrieve items without pdf file ...\")\n",
    "items_without_pdf = get_items_with_no_pdf_attachments(zot, lib_items)\n",
    "if items_without_pdf:\n",
    "    log.warning(f\"Found {len(items_without_pdf)} items\\n\")\n",
    "    STATUS_OK = False\n",
    "else:\n",
    "    log.warning(f\"Found 0 items\\n\")\n",
    "    \n",
    "for item in items_without_pdf:\n",
    "    log_title(item)"
   ]
  },
  {
   "cell_type": "markdown",
   "id": "1efb7075-bac0-4330-9d20-9234565bf3fb",
   "metadata": {},
   "source": [
    "# Check standalone items\n",
    "\n",
    "- pdf files\n",
    "- notes"
   ]
  },
  {
   "cell_type": "code",
   "execution_count": null,
   "id": "aec4642e-1ab3-4270-af9a-f3c9cf1979ec",
   "metadata": {},
   "outputs": [],
   "source": [
    "log.info(\"Check standalone items ...\")\n",
    "standalone_items = get_standalone_items(lib_items)    \n",
    "if standalone_items:\n",
    "    log.warning(f\"Found {len(standalone_items)} items.\\n\")\n",
    "    STATUS_OK = False\n",
    "else:\n",
    "    log.info(f\"Found {len(standalone_items)}.\\n\")  \n",
    "\n",
    "for standalone_item in standalone_items:\n",
    "    log_item(standalone_item)\n",
    "    \n",
    "if STATUS_OK:\n",
    "    log.info(f\"Library is OK!\")    "
   ]
  },
  {
   "cell_type": "markdown",
   "id": "076a8a24-afd7-495e-a1ab-f8c6dc4bf7cf",
   "metadata": {},
   "source": [
    "## Report items with duplicate pdf files\n",
    "\n",
    "### Based on DOI/ISBN \n",
    "\n",
    "- Duplicates without DOI not ISBN numbers are going to be ignored! \n",
    "- Duplicates with different DOI or ISBN will be missed as well! (e.g. ISBN=0968-090X and ISBN=0968090X)\n"
   ]
  },
  {
   "cell_type": "code",
   "execution_count": null,
   "id": "88c22a58-7551-4f02-b52c-534c3102b602",
   "metadata": {},
   "outputs": [],
   "source": [
    "%%time\n",
    "\n",
    "log.info(\"Resolving duplicates based on DOI/ISBN...\")\n",
    "# sort items by DOI\n",
    "by_doi = get_items_by_doi_or_isbn(lib_items)        \n",
    "delete_items = []\n",
    "update_items = []\n",
    "for doi, items in by_doi.items():\n",
    "    if len(items) == 1:\n",
    "        continue\n",
    "\n",
    "    log.info(f\"doi/isbn: {doi} | number = {len(items)}\")    \n",
    "    # sort by age. oldest first\n",
    "    items.sort(key=date_added)\n",
    "    # keep oldest item\n",
    "    keep = items[0]\n",
    "    # keep latest attachments\n",
    "    keep_cs = zot.children(keep[\"key\"])\n",
    "    duplicates_have_pdf = False\n",
    "    for item in items[-1:0:-1]:\n",
    "        cs = zot.children(item[\"key\"])\n",
    "        if cs:\n",
    "            for c in cs:\n",
    "                c[\"data\"][\"parentItem\"] = keep[\"key\"]\n",
    "                if attachment_is_pdf(c):\n",
    "                    duplicates_have_pdf = True\n",
    "                \n",
    "            update_items.extend(cs)\n",
    "            if duplicates_have_pdf:\n",
    "                delete_items.extend(keep_cs)\n",
    "\n",
    "            break  # cause, only the newest attachements are added\n",
    "\n",
    "    delete_items.extend(items[1:])\n",
    "\n",
    "if delete_items:\n",
    "    log.warning(f\"{len(delete_items)} duplicate items\")\n",
    "    STATUS_OK = False\n",
    "else:\n",
    "    log.info(\"no duplicates found\")\n",
    "    \n",
    "for d in delete_items:\n",
    "    log_title(d)\n",
    "    "
   ]
  },
  {
   "cell_type": "code",
   "execution_count": null,
   "id": "5605450f-d696-4231-ad15-872acae80f9f",
   "metadata": {},
   "outputs": [],
   "source": [
    "%%time\n",
    "log.info(f\"Retrieving items with no DOI & ISBN\")\n",
    "# for field in [\"DOI\", \"ISBN\"]:\n",
    "#     log.info(\"Resolving items with no {field} ...\")  \n",
    "#     empty_list = get_items_with_empty_doi_isbn(lib_items, field)\n",
    "#     if empty_list:\n",
    "#         log.warning(f\"found {len(empty_list)} items with no {field}\")\n",
    "#         for d in empty_list:\n",
    "#             log.info(f\"Title: {d}\")\n",
    "#     else:\n",
    "#         log.info(\"all items have a {field}\")\n",
    "        \n",
    "# now check for items having none of them (doi and isbn)\n",
    "fields = [\"DOI\", \"ISBN\"]\n",
    "no_doi_and_no_isbn  = get_items_with_empty_doi_and_isbn(lib_items, fields)\n",
    "\n",
    "if no_doi_and_no_isbn:\n",
    "    log.warning(f\"found {len(no_doi_and_no_isbn)} items with no {fields}\")\n",
    "    STATUS_OK = False\n",
    "    for no in no_doi_and_no_isbn:\n",
    "        log.info(f\"Title: {no}\")"
   ]
  },
  {
   "cell_type": "markdown",
   "id": "272d4461-29fe-4860-8434-283247590009",
   "metadata": {},
   "source": [
    "\n",
    "### Based on Title"
   ]
  },
  {
   "cell_type": "code",
   "execution_count": null,
   "id": "34a49fb0-dd7f-4424-acf4-0e8111f79b90",
   "metadata": {},
   "outputs": [],
   "source": [
    "log.info(\"Resolving missed duplicates based on title...\")\n",
    "duplicate_items_by_title = defaultdict(list)\n",
    "\n",
    "for item in lib_items:\n",
    "    if is_standalone(item):\n",
    "        continue \n",
    "        \n",
    "    key = item[\"data\"][\"key\"]\n",
    "    iType = item[\"data\"][\"itemType\"]\n",
    "    Title = item[\"data\"][\"title\"]\n",
    "    duplicate_items_by_title[iType].append(Title.capitalize())\n",
    "\n",
    "for Type in duplicate_items_by_title.keys():\n",
    "    num_duplicates_items = len(duplicate_items_by_title[Type]) - len(\n",
    "        set(duplicate_items_by_title[Type])\n",
    "    )\n",
    "    if num_duplicates_items:\n",
    "        STATUS_OK = False\n",
    "        log.warning(f\"{num_duplicates_items} duplicate items of type <{Type}>\")\n",
    "        duplicates = set([x for x in duplicate_items_by_title[Type] if duplicate_items_by_title[Type].count(x) > 1])\n",
    "        for d in duplicates:\n",
    "            log.info(f\"Title: {d}\")\n",
    "    else:\n",
    "        log.info(f\"No duplicates type <{Type}> found\")"
   ]
  },
  {
   "cell_type": "markdown",
   "id": "87e6f7bd-a12b-439c-bcc4-40c64ef9eb30",
   "metadata": {},
   "source": [
    "# Trash status\n",
    "\n",
    "- Check if Trash is empty\n",
    "- Standalone items"
   ]
  },
  {
   "cell_type": "code",
   "execution_count": null,
   "id": "italian-terry",
   "metadata": {},
   "outputs": [],
   "source": [
    "if len(zot.trash()) > 0:\n",
    "    log.warning(\"Trash is not empty. Consider emptying it!\")\n",
    "    STATUS_OK = False\n",
    "else:\n",
    "    log.info(\"\\n----\\nTrash is empty!\")\n",
    "    \n",
    "if STATUS_OK:\n",
    "    log.info(\"STATUS: OK\")\n",
    "else:\n",
    "    log.warning(\"STATUS: NOT OK\")"
   ]
  }
 ],
 "metadata": {
  "kernelspec": {
   "display_name": "Python 3",
   "language": "python",
   "name": "python3"
  },
  "language_info": {
   "codemirror_mode": {
    "name": "ipython",
    "version": 3
   },
   "file_extension": ".py",
   "mimetype": "text/x-python",
   "name": "python",
   "nbconvert_exporter": "python",
   "pygments_lexer": "ipython3",
   "version": "3.9.10"
  }
 },
 "nbformat": 4,
 "nbformat_minor": 5
}
