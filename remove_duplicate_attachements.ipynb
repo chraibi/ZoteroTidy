{
 "cells": [
  {
   "cell_type": "markdown",
   "id": "duplicate-activation",
   "metadata": {},
   "source": [
    "# Get config parameters\n",
    "\n",
    "## Data needed\n",
    "We need three informations:\n",
    "- the **ID of the group** library.  \n",
    "  Can be found by opening the group’s page: https://www.zotero.org/groups/groupname,   \n",
    "  and hovering over the group settings link.\n",
    "- the **API key** from the Zotero [site](https://www.zotero.org/settings/keys/new)\n",
    "- **library_type** \n",
    "  - own Zotero library --> user\n",
    "  - shared library --> group\n",
    "  \n",
    "## Config file\n",
    "\n",
    "Rename `config_template.cfg` to `config.cfg` and populate it with the three information as explained above."
   ]
  },
  {
   "cell_type": "code",
   "execution_count": null,
   "id": "average-civilian",
   "metadata": {},
   "outputs": [],
   "source": [
    "import configparser\n",
    "\n",
    "configFilePath = r'config.cfg'\n",
    "configParser = configparser.RawConfigParser()   \n",
    "configParser.read(configFilePath)\n",
    "library_id = int(configParser.get('zotero-config', 'library_id'))\n",
    "api_key = configParser.get('zotero-config', 'api_key')\n",
    "library_type = configParser.get('zotero-config', 'library_type')"
   ]
  },
  {
   "cell_type": "markdown",
   "id": "heated-footage",
   "metadata": {},
   "source": [
    "# Find items with duplicate attachments"
   ]
  },
  {
   "cell_type": "code",
   "execution_count": null,
   "id": "colored-cuisine",
   "metadata": {},
   "outputs": [],
   "source": [
    "from pyzotero import zotero\n",
    "from datetime import datetime\n",
    "from collections import defaultdict\n",
    "\n",
    "\n",
    "DATE_FMT = \"%Y-%m-%dT%XZ\"\n",
    "\n",
    "def date_added(item):\n",
    "    return datetime.strptime(item['data']['dateAdded'], DATE_FMT)\n",
    "\n",
    "\n",
    "print(\"Retrieving Library...\")\n",
    "zot = zotero.Zotero(library_id, library_type, api_key)\n",
    "lib_items = zot.everything(zot.top())\n",
    "\n",
    "print(\"Resolving duplicates...\")\n",
    "items_duplicate_attach = []\n",
    "for item in lib_items:\n",
    "    if item['meta']['numChildren'] > 1:\n",
    "        items_duplicate_attach.append(item)\n",
    "\n",
    "    if 'attachment' in item['links'].keys():\n",
    "        attach = item['links']['attachment']['href'].split(\"/\")[-1]\n",
    "        type_attach = item['links']['attachment']['attachmentType']\n",
    "        \n",
    "    else:\n",
    "        attach = \"NO_ATTACHMENT\"\n",
    "        type_attach = \"NO_TYPE\"\n",
    "\n",
    "    print(f\"\"\"\n",
    "    Key: {item['data']['key']}\\n\n",
    "    Title: {item['data']['title']}\\n\n",
    "    Author: {item['data']['creators'][0]['firstName']}, {item['data']['creators'][0]['lastName']}\\n\n",
    "    File: {attach} | Type: {type_attach}\\n\n",
    "    Num Attach: {item['meta']['numChildren']}\\n\n",
    "    ----\"\"\")\n",
    "\n",
    "num_duplicates = len(items_duplicate_attach)    \n",
    "# todo: these attachements can be pdf, notes, zip, etc.\n",
    "# but we are interested in pdf files only!!\n",
    "print(f\">> Found {num_duplicates} items with multiple attachements: \")\n",
    "\n",
    "#found_duplicate_attachements = True if num_duplicates else False"
   ]
  },
  {
   "cell_type": "markdown",
   "id": "instrumental-operator",
   "metadata": {},
   "source": [
    "# Check if Trash is empty"
   ]
  },
  {
   "cell_type": "code",
   "execution_count": null,
   "id": "allied-terrain",
   "metadata": {},
   "outputs": [],
   "source": [
    "if len(zot.trash()) > 0:\n",
    "    print(\"Trash is not empty. Consider emptying it!\")"
   ]
  },
  {
   "cell_type": "markdown",
   "id": "sealed-biotechnology",
   "metadata": {},
   "source": [
    "# Report items with multiple attachements\n",
    "\n",
    "Multiple attachements are ok. We are looking for duplicate pdf files. \n",
    "This cell if just for reporting."
   ]
  },
  {
   "cell_type": "code",
   "execution_count": null,
   "id": "treated-volleyball",
   "metadata": {},
   "outputs": [],
   "source": [
    "#lib_items.sort(key=date_added)\n",
    "for item in lib_items:\n",
    "    cs = zot.children(item['key'])\n",
    "    for c in cs:\n",
    "        print(f\"key: {item['key']} | child: {c['key']}\")\n",
    "    print(\"---\")    "
   ]
  },
  {
   "cell_type": "markdown",
   "id": "meaningful-collapse",
   "metadata": {},
   "source": [
    "# Remove items with duplicate attachements\n",
    "\n",
    "**WARNING**: This cell is dangerous!\n"
   ]
  },
  {
   "cell_type": "code",
   "execution_count": null,
   "id": "golden-alcohol",
   "metadata": {},
   "outputs": [],
   "source": [
    "deleted_attachement = False\n",
    "def attachment_is_pdf(c):\n",
    "    return child['data']['itemType'] == \"attachement\" and child['data']['contentType'] == 'application/pdf'\n",
    "\n",
    "for item in items_duplicate_attach:\n",
    "    cs = zot.children(item['key'])\n",
    "    files = []\n",
    "    for child in cs:\n",
    "        if 'filename' in child['data'].keys(): # notes have no filename!\n",
    "            print(f\"[{child['data']['filename']}]: {item['data']['title']}\")\n",
    "            files.append(child['data']['filename'])\n",
    "    \n",
    "    print(\"-----\")\n",
    "    \n",
    "    # DANGER AREA!!    \n",
    "    if len(set(files)) == 1 and len(files) > 1: # some items have different pdf files, like suppl materials. Should not delete\n",
    "        # here attachements are all named the same, meaning --> duplicates\n",
    "        print(\"all files are the same. Proceed deleting ..\")\n",
    "        print(files)\n",
    "        for child in cs[1:]:           \n",
    "            if attachment_is_pdf(child): \n",
    "                print(f\"delete {child['data']['filename']}\")\n",
    "                zot.delete_item(child)\n",
    "                deleted_attachement = True\n",
    "                \n",
    "    else:\n",
    "        for child in cs[1:]:             \n",
    "            if attachment_is_pdf(child):\n",
    "                # ask only for pdf files. Other files, like notes, zip, etc, should not be deleted, anyway.\n",
    "                answer = input(\"y[N]?\")\n",
    "                if answer == \"y\":\n",
    "                    print(f\"delete {child['data']['filename']}\")\n",
    "                    zot.delete_item(child)\n",
    "                    deleted_attachement = True\n",
    "\n",
    "# @todo: check if this is necessary                \n",
    "if deleted_attachement:            \n",
    "    zot.delete_tags('#duplicate-citation-key')            "
   ]
  }
 ],
 "metadata": {
  "kernelspec": {
   "display_name": "Python 3",
   "language": "python",
   "name": "python3"
  },
  "language_info": {
   "codemirror_mode": {
    "name": "ipython",
    "version": 3
   },
   "file_extension": ".py",
   "mimetype": "text/x-python",
   "name": "python",
   "nbconvert_exporter": "python",
   "pygments_lexer": "ipython3",
   "version": "3.9.10"
  }
 },
 "nbformat": 4,
 "nbformat_minor": 5
}
