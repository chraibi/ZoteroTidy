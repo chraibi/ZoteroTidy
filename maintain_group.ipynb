{
 "cells": [
  {
   "cell_type": "markdown",
   "id": "devoted-culture",
   "metadata": {},
   "source": [
    "# Get config parameters\n",
    "\n",
    "## Data needed\n",
    "We need three informations:\n",
    "- the **ID of the group** library.  \n",
    "  Can be found by opening the group’s page: https://www.zotero.org/groups/groupname,   \n",
    "  and hovering over the group settings link.\n",
    "- the **API key** from the Zotero [site](https://www.zotero.org/settings/keys/new)\n",
    "- **library_type** \n",
    "  - own Zotero library --> user\n",
    "  - shared library --> group\n",
    "  \n",
    "## Config file\n",
    "\n",
    "Rename `config_template.cfg` to `config.cfg` and populate it with the three information as explained above."
   ]
  },
  {
   "cell_type": "code",
   "execution_count": null,
   "id": "minor-production",
   "metadata": {},
   "outputs": [],
   "source": [
    "import configparser\n",
    "\n",
    "configFilePath = r'config.cfg'\n",
    "configParser = configparser.RawConfigParser()   \n",
    "configParser.read(configFilePath)\n",
    "library_id = int(configParser.get('zotero-config', 'library_id'))\n",
    "api_key = configParser.get('zotero-config', 'api_key')\n",
    "library_type = configParser.get('zotero-config', 'library_type')"
   ]
  },
  {
   "cell_type": "markdown",
   "id": "compact-invite",
   "metadata": {},
   "source": [
    "# Find items with duplicate attachments"
   ]
  },
  {
   "cell_type": "code",
   "execution_count": null,
   "id": "vulnerable-variation",
   "metadata": {},
   "outputs": [],
   "source": [
    "from pyzotero import zotero\n",
    "from datetime import datetime\n",
    "from collections import defaultdict\n",
    "\n",
    "\n",
    "DATE_FMT = \"%Y-%m-%dT%XZ\"\n",
    "\n",
    "def date_added(item):\n",
    "    return datetime.strptime(item['data']['dateAdded'], DATE_FMT)\n",
    "\n",
    "\n",
    "print(\"Retrieving Library...\")\n",
    "zot = zotero.Zotero(library_id, library_type, api_key)\n",
    "lib_items = zot.everything(zot.top())\n",
    "\n",
    "print(\"Resolving duplicates...\")\n",
    "items_duplicate_attach = []\n",
    "for item in lib_items:\n",
    "    if item['meta']['numChildren'] > 1:\n",
    "        items_duplicate_attach.append(item)\n",
    "\n",
    "    if 'attachment' in item['links'].keys():\n",
    "        attach = item['links']['attachment']['href'].split(\"/\")[-1]\n",
    "        type_attach = item['links']['attachment']['attachmentType']\n",
    "        \n",
    "    else:\n",
    "        attach = \"NO_ATTACHMENT\"\n",
    "        type_attach = \"NO_TYPE\"\n",
    "\n",
    "    print(f\"\"\"\n",
    "    Key: {item['data']['key']}\\n\n",
    "    Title: {item['data']['title']}\\n\n",
    "    Author: {item['data']['creators'][0]['firstName']}, {item['data']['creators'][0]['lastName']}\\n\n",
    "    File: {attach} | Type: {type_attach}\\n\n",
    "    Num Attach: {item['meta']['numChildren']}\\n\n",
    "    ----\"\"\")\n",
    "\n",
    "num_duplicates = len(items_duplicate_attach)    \n",
    "print(f\">> Found {num_duplicates} items with duplicate attach: \")\n",
    "\n",
    "#found_duplicate_attachements = True if num_duplicates else False"
   ]
  },
  {
   "cell_type": "markdown",
   "id": "reduced-bacteria",
   "metadata": {},
   "source": [
    "# Check if Trash is empty"
   ]
  },
  {
   "cell_type": "code",
   "execution_count": null,
   "id": "sunrise-frontier",
   "metadata": {},
   "outputs": [],
   "source": [
    "if len(zot.trash()) > 0:\n",
    "    print(\"Trash is not empty. Consider emptying it!\")"
   ]
  },
  {
   "cell_type": "markdown",
   "id": "tracked-mixer",
   "metadata": {},
   "source": [
    "# Report items with duplicate attachements"
   ]
  },
  {
   "cell_type": "code",
   "execution_count": null,
   "id": "bizarre-peripheral",
   "metadata": {},
   "outputs": [],
   "source": [
    "#lib_items.sort(key=date_added)\n",
    "for item in lib_items:\n",
    "    cs = zot.children(item['key'])\n",
    "    for c in cs:\n",
    "        print(f\"key: {item['key']} | child: {c['key']}\")\n",
    "    print(\"---\")    "
   ]
  },
  {
   "cell_type": "markdown",
   "id": "extraordinary-television",
   "metadata": {},
   "source": [
    "# Remove items with duplicate attachements\n",
    "\n",
    "**WARNING**: This cell is dangerous!\n"
   ]
  },
  {
   "cell_type": "code",
   "execution_count": null,
   "id": "ranging-monitor",
   "metadata": {},
   "outputs": [],
   "source": [
    "# children of first\n",
    "for item in items_duplicate_attach:\n",
    "    cs = zot.children(item['key'])\n",
    "    files = []\n",
    "    for child in cs:\n",
    "        if 'filename' in child['data'].keys(): # notes have no filename!\n",
    "            print(child['data']['filename'], item['data']['title'])\n",
    "            files.append(child['data']['filename'])\n",
    "        \n",
    "    # DANGER AREA!!    \n",
    "    if len(set(files)) == 1: # some items have different pdf files, like suppl materials. Should not delete\n",
    "        # here they are all named the samen, meaning --> duplicates\n",
    "        print(\"all files are the same. Proceed deleting ..\")\n",
    "        zot.delete_tags('#duplicate-citation-key')\n",
    "        for child in cs[1:]:\n",
    "            if 'filename' in child['data'].keys():\n",
    "                print(f\"delete {child['data']['filename']}\")\n",
    "            zot.delete_item(child)\n",
    "    else:\n",
    "        for child in cs[1:]:\n",
    "            if 'filename' in child['data'].keys():\n",
    "                print(f\"delete {child['data']['filename']}\")\n",
    "                \n",
    "            answer = input(\"y[N]?\")\n",
    "            if answer == \"y\":\n",
    "                zot.delete_item(child)"
   ]
  },
  {
   "cell_type": "markdown",
   "id": "innocent-checkout",
   "metadata": {},
   "source": [
    "# Merge duplicates "
   ]
  },
  {
   "cell_type": "code",
   "execution_count": null,
   "id": "prescription-forth",
   "metadata": {},
   "outputs": [],
   "source": [
    "print(\"Resolving duplicates...\")\n",
    "# sort items by DOI\n",
    "by_doi = defaultdict(list)\n",
    "for item in lib_items:\n",
    "    if 'DOI' in item['data']:\n",
    "        by_doi[item['data']['DOI']].append(item)\n",
    "    elif 'ISBN' in item['data']:\n",
    "        by_doi[item['data']['ISBN']].append(item)\n",
    "        \n",
    "delete_items = []\n",
    "update_items = []\n",
    "for doi, items in by_doi.items():\n",
    "    if len(items) == 1:\n",
    "        continue\n",
    "\n",
    "    # sort by age\n",
    "    items.sort(key=date_added)\n",
    "\n",
    "    # keep oldest item\n",
    "    keep = items[0]\n",
    "\n",
    "    # keep latest attachments\n",
    "    keep_cs = zot.children(keep['key'])\n",
    "    for item in items[-1:0:-1]:\n",
    "        cs = zot.children(item['key'])\n",
    "        if cs:\n",
    "            for c in cs:\n",
    "                c['data']['parentItem'] = keep['key']\n",
    "                \n",
    "            update_items.extend(cs)\n",
    "            delete_items.extend(keep_cs)\n",
    "            break\n",
    "\n",
    "        delete_items.extend(items[1:])\n",
    "        \n",
    "print(f\"Creates list of items to update. {len(update_items)} items found.\")\n",
    "print(f\"Creates list of items to delete. {len(delete_items)} items found.\")"
   ]
  },
  {
   "cell_type": "markdown",
   "id": "inappropriate-thermal",
   "metadata": {},
   "source": [
    "# Update and delete duplicate items\n",
    "\n",
    "**WARNING**: This cell is dangerous!\n"
   ]
  },
  {
   "cell_type": "code",
   "execution_count": null,
   "id": "liquid-postage",
   "metadata": {},
   "outputs": [],
   "source": [
    "print(\"Updating library...\")\n",
    "# update first, so we don't delete parents of items we want to keep\n",
    "for update_item in update_items:\n",
    "    zot.update_item(update_item)\n",
    "\n",
    "# now delete: DANGER AREA! \n",
    "for delete_item in delete_items:\n",
    "    print(f\"\"\"deleting ... \n",
    "    Key: {delete_item['data']['key']}\\n\n",
    "    Title: {delete_item['data']['title']}\\n\n",
    "    Author: {delete_item['data']['creators'][0]['firstName']}, {delete_item['data']['creators'][0]['lastName']}\n",
    "    \"\"\")\n",
    "    if 'attachment' in delete_item['links'].keys():\n",
    "        print(f\"item has attachment. Can not delete\")\n",
    "        continue\n",
    "    else:\n",
    "        zot.delete_item(delete_item)\n",
    "        \n",
    "print(\"done!\")        \n",
    "        "
   ]
  },
  {
   "cell_type": "code",
   "execution_count": null,
   "id": "forbidden-blond",
   "metadata": {},
   "outputs": [],
   "source": [
    "found_duplicates\n"
   ]
  },
  {
   "cell_type": "code",
   "execution_count": null,
   "id": "intelligent-optimization",
   "metadata": {},
   "outputs": [],
   "source": []
  }
 ],
 "metadata": {
  "kernelspec": {
   "display_name": "Python 3",
   "language": "python",
   "name": "python3"
  },
  "language_info": {
   "codemirror_mode": {
    "name": "ipython",
    "version": 3
   },
   "file_extension": ".py",
   "mimetype": "text/x-python",
   "name": "python",
   "nbconvert_exporter": "python",
   "pygments_lexer": "ipython3",
   "version": "3.9.10"
  }
 },
 "nbformat": 4,
 "nbformat_minor": 5
}
