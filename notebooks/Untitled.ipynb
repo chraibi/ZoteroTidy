{
 "cells": [
  {
   "cell_type": "code",
   "execution_count": 6,
   "id": "22885755-4d7f-4253-926d-65d262f6fd77",
   "metadata": {},
   "outputs": [],
   "source": [
    "a = [True, False, False]"
   ]
  },
  {
   "cell_type": "code",
   "execution_count": 7,
   "id": "342a4a01-862d-4267-939c-74c02079d160",
   "metadata": {},
   "outputs": [
    {
     "data": {
      "text/plain": [
       "1"
      ]
     },
     "execution_count": 7,
     "metadata": {},
     "output_type": "execute_result"
    }
   ],
   "source": [
    "sum(a)\n"
   ]
  },
  {
   "cell_type": "code",
   "execution_count": null,
   "id": "b0413e79-f2f3-4001-8f8b-f2dde18f7349",
   "metadata": {},
   "outputs": [],
   "source": []
  }
 ],
 "metadata": {
  "kernelspec": {
   "display_name": "Python 3",
   "language": "python",
   "name": "python3"
  },
  "language_info": {
   "codemirror_mode": {
    "name": "ipython",
    "version": 3
   },
   "file_extension": ".py",
   "mimetype": "text/x-python",
   "name": "python",
   "nbconvert_exporter": "python",
   "pygments_lexer": "ipython3",
   "version": "3.9.10"
  }
 },
 "nbformat": 4,
 "nbformat_minor": 5
}
