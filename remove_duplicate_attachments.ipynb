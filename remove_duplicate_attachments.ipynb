{
 "cells": [
  {
   "cell_type": "markdown",
   "id": "general-sphere",
   "metadata": {},
   "source": [
    "# Get config parameters\n",
    "\n",
    "## Data needed\n",
    "We need three informations:\n",
    "- the **ID of the group** library.  \n",
    "  Can be found by opening the group’s page: https://www.zotero.org/groups/groupname,   \n",
    "  and hovering over the group settings link.\n",
    "- the **API key** from the Zotero [site](https://www.zotero.org/settings/keys/new)\n",
    "- **library_type** \n",
    "  - own Zotero library --> user\n",
    "  - shared library --> group\n",
    "  \n",
    "## Config file\n",
    "\n",
    "Rename `config_template.cfg` to `config.cfg` and populate it with the three information as explained above."
   ]
  },
  {
   "cell_type": "code",
   "execution_count": null,
   "id": "deluxe-battle",
   "metadata": {},
   "outputs": [],
   "source": [
    "import configparser\n",
    "\n",
    "configFilePath = r\"config.cfg\"\n",
    "configParser = configparser.RawConfigParser()\n",
    "configParser.read(configFilePath)\n",
    "library_id = int(configParser.get(\"zotero-config\", \"library_id\"))\n",
    "api_key = configParser.get(\"zotero-config\", \"api_key\")\n",
    "library_type = configParser.get(\"zotero-config\", \"library_type\")"
   ]
  },
  {
   "cell_type": "markdown",
   "id": "about-teach",
   "metadata": {},
   "source": [
    "# Functions "
   ]
  },
  {
   "cell_type": "code",
   "execution_count": null,
   "id": "distant-title",
   "metadata": {},
   "outputs": [],
   "source": [
    "import datetime as dt\n",
    "from collections import defaultdict\n",
    "from datetime import datetime\n",
    "\n",
    "from pyzotero import zotero\n",
    "\n",
    "DATE_FMT = \"%Y-%m-%dT%XZ\"\n",
    "\n",
    "\n",
    "def date_added(item):\n",
    "    return datetime.strptime(item[\"data\"][\"dateAdded\"], DATE_FMT)\n",
    "\n",
    "\n",
    "def attachment_is_pdf(_child):\n",
    "    return (\n",
    "        _child[\"data\"][\"itemType\"] == \"attachment\"\n",
    "        and _child[\"data\"][\"contentType\"] == \"application/pdf\"\n",
    "    )\n",
    "\n",
    "\n",
    "def get_items_with_duplicate_pdf(_items):\n",
    "    _items_duplicate_attach = []\n",
    "    _pdf_attachments = defaultdict(list)\n",
    "    for _item in _items:\n",
    "        key = _item[\"key\"]\n",
    "        cs = zot.children(_item[\"key\"])\n",
    "        for c in cs:\n",
    "            if attachment_is_pdf(c):\n",
    "                _pdf_attachments[key].append(c[\"data\"][\"filename\"])\n",
    "\n",
    "    if len(_pdf_attachments[key]) > 1:\n",
    "        _items_duplicate_attach.append(_item)\n",
    "\n",
    "    return _items_duplicate_attach, _pdf_attachments"
   ]
  },
  {
   "cell_type": "code",
   "execution_count": 11,
   "id": "genuine-communist",
   "metadata": {},
   "outputs": [
    {
     "ename": "SyntaxError",
     "evalue": "invalid syntax (<ipython-input-11-7f4c8b1a95e2>, line 1)",
     "output_type": "error",
     "traceback": [
      "\u001b[0;36m  File \u001b[0;32m\"<ipython-input-11-7f4c8b1a95e2>\"\u001b[0;36m, line \u001b[0;32m1\u001b[0m\n\u001b[0;31m    <a id='another_cell'></a>\u001b[0m\n\u001b[0m    ^\u001b[0m\n\u001b[0;31mSyntaxError\u001b[0m\u001b[0;31m:\u001b[0m invalid syntax\n"
     ]
    }
   ],
   "source": [
    "print(\"Retrieving Library...\")\n",
    "zot = zotero.Zotero(library_id, library_type, api_key)\n",
    "lib_items = zot.everything(zot.top())\n",
    "T = dt.datetime.now()\n",
    "print(f\"Done at {T.hour}:{T.minute}:{T.second}\")"
   ]
  },
  {
   "cell_type": "markdown",
   "id": "sufficient-wealth",
   "metadata": {},
   "source": [
    "# Get Items with duplicate pdf files\n",
    "<a id='fetch-duplicates'></a>"
   ]
  },
  {
   "cell_type": "code",
   "execution_count": null,
   "id": "fuzzy-seafood",
   "metadata": {
    "tags": [
     "fetch-duplicates"
    ]
   },
   "outputs": [],
   "source": [
    "print(\"Resolving duplicates...\")\n",
    "# items_duplicate_attach = []\n",
    "# pdf_attachments = defaultdict(list)\n",
    "items_duplicate_attach, pdf_attachments = get_items_with_duplicate_pdf(lib_items)\n",
    "print(\"done!\")"
   ]
  },
  {
   "cell_type": "markdown",
   "id": "floppy-plant",
   "metadata": {},
   "source": [
    "# Report items with multiple attachments\n",
    "\n",
    "Multiple attachments are ok.  \n",
    "We are looking for duplicate pdf files.   \n"
   ]
  },
  {
   "cell_type": "code",
   "execution_count": null,
   "id": "knowing-invite",
   "metadata": {},
   "outputs": [],
   "source": [
    "for item in lib_items:\n",
    "    key = item[\"key\"]\n",
    "    firstname = \"UNKNOWN\"\n",
    "    lastname = \"UNKNOWN\"\n",
    "    creators = item[\"data\"][\"creators\"]  # could be author or editor\n",
    "    for creator in creators:\n",
    "        if creator[\"creatorType\"] == \"author\":\n",
    "            firstname = creator[\"firstName\"]\n",
    "            lastname = creator[\"lastName\"]\n",
    "            break\n",
    "\n",
    "#     print(\n",
    "#         f\"\"\"\n",
    "#     Key: {item['data']['key']}\n",
    "#     Title: {item['data']['title']}\n",
    "#     Author: {firstname}, {lastname}\n",
    "#     PDF attachements: {pdf_attachments[key]}\n",
    "#     ----\"\"\"\n",
    "#     )\n",
    "\n",
    "print(f\"found {len(items_duplicate_attach)} items with duplicate pdf files\")"
   ]
  },
  {
   "cell_type": "markdown",
   "id": "present-christopher",
   "metadata": {},
   "source": [
    "# Check if Trash is empty"
   ]
  },
  {
   "cell_type": "code",
   "execution_count": null,
   "id": "identical-translator",
   "metadata": {},
   "outputs": [],
   "source": [
    "if len(zot.trash()) > 0:\n",
    "    print(\"Trash is not empty. Consider emptying it!\")"
   ]
  },
  {
   "cell_type": "markdown",
   "id": "received-canvas",
   "metadata": {},
   "source": [
    "## Remove items with duplicate attachments\n",
    "\n",
    "**WARNING**: This cell is dangerous!\n",
    "\n",
    "Here, duplicate attachments are getting removed.\n",
    "\n",
    "Execution of [Get Items with duplicate pdf files](#fetch-duplicates) is necessary \n",
    "to fetch `items_duplicate_attach` and `pdf_attachments`"
   ]
  },
  {
   "cell_type": "code",
   "execution_count": null,
   "id": "cubic-norwegian",
   "metadata": {},
   "outputs": [],
   "source": [
    "print(\"Updating library...\")\n",
    "print(\"===========\")\n",
    "#items_duplicate_attach, pdf_attachments = get_items_with_duplicate_pdf(lib_items)\n",
    "deleted_attachment = False\n",
    "\n",
    "for item in items_duplicate_attach:\n",
    "    files = pdf_attachments[item[\"key\"]]\n",
    "    cs = zot.children(item[\"key\"])\n",
    "    print(\"-----\")\n",
    "\n",
    "    # DANGER AREA!!\n",
    "    if (\n",
    "        len(set(files)) == 1 and len(files) > 1\n",
    "    ):  # some items have different pdf files, like suppl materials. Should not delete\n",
    "        # here attachments are all named the same -->  a sign of duplicates\n",
    "        print(\"all files are the same. Proceed deleting ..\")\n",
    "        print(files)\n",
    "        for child in cs[1:]:\n",
    "            if attachment_is_pdf(child):\n",
    "                print(f\"delete {child['data']['filename']}\")\n",
    "                zot.delete_item(child)\n",
    "                deleted_attachment = True\n",
    "\n",
    "    else:  # manual mode!\n",
    "        for child in cs[1:]:\n",
    "            if attachment_is_pdf(child):\n",
    "                # ask only for pdf files. Other files, like notes, zip, etc, should not be deleted, anyway.\n",
    "                answer = input(f\"delete {child['data']['filename']}? (y[N])\")\n",
    "                if answer == \"y\":\n",
    "                    print(f\"deleting {child['data']['filename']}\")\n",
    "                    zot.delete_item(child)\n",
    "                    deleted_attachment = True\n",
    "\n",
    "print(\"===========\")\n",
    "T = dt.datetime.now()\n",
    "if deleted_attachment:\n",
    "    print(\"Attachments deleted!\")\n",
    "else:\n",
    "    print(\"No attachments deleted!\")\n",
    "\n",
    "print(f\"Done at {T.hour}:{T.minute}:{T.second}\")"
   ]
  },
  {
   "cell_type": "markdown",
   "id": "listed-device",
   "metadata": {},
   "source": [
    "## Delete duplicate tag"
   ]
  },
  {
   "cell_type": "code",
   "execution_count": null,
   "id": "textile-orlando",
   "metadata": {},
   "outputs": [],
   "source": [
    "DELETE_TAGS = False  # @todo: check if this is necessary\n",
    "if DELETE_TAGS and deleted_attachement:\n",
    "    zot.delete_tags(\"#duplicate-citation-key\")"
   ]
  }
 ],
 "metadata": {
  "kernelspec": {
   "display_name": "Python 3",
   "language": "python",
   "name": "python3"
  },
  "language_info": {
   "codemirror_mode": {
    "name": "ipython",
    "version": 3
   },
   "file_extension": ".py",
   "mimetype": "text/x-python",
   "name": "python",
   "nbconvert_exporter": "python",
   "pygments_lexer": "ipython3",
   "version": "3.9.10"
  }
 },
 "nbformat": 4,
 "nbformat_minor": 5
}
