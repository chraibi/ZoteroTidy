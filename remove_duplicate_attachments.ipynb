{
 "cells": [
  {
   "cell_type": "markdown",
   "id": "appreciated-pilot",
   "metadata": {},
   "source": [
    "# Get config parameters\n",
    "\n",
    "## Data needed\n",
    "We need three informations:\n",
    "- the **ID of the group** library.  \n",
    "  Can be found by opening the group’s page: https://www.zotero.org/groups/groupname,   \n",
    "  and hovering over the group settings link.\n",
    "- the **API key** from the Zotero [site](https://www.zotero.org/settings/keys/new)\n",
    "- **library_type** \n",
    "  - own Zotero library --> user\n",
    "  - shared library --> group\n",
    "  \n",
    "## Config file\n",
    "\n",
    "Rename `config_template.cfg` to `config.cfg` and populate it with the three information as explained above."
   ]
  },
  {
   "cell_type": "code",
   "execution_count": 9,
   "id": "industrial-cornell",
   "metadata": {},
   "outputs": [],
   "source": [
    "%run config.ipynb"
   ]
  },
  {
   "cell_type": "markdown",
   "id": "universal-proposition",
   "metadata": {},
   "source": [
    "# Retrieve data from server "
   ]
  },
  {
   "cell_type": "code",
   "execution_count": 2,
   "id": "dietary-cisco",
   "metadata": {},
   "outputs": [
    {
     "name": "stdout",
     "output_type": "stream",
     "text": [
      "Retrieving Library...\n",
      "Done at 19:32:37\n"
     ]
    }
   ],
   "source": [
    "zot, lib_items = retrieve_data()"
   ]
  },
  {
   "cell_type": "markdown",
   "id": "american-thread",
   "metadata": {},
   "source": [
    "# Get Items with duplicate pdf files\n",
    "<a id='fetch-duplicates'></a>"
   ]
  },
  {
   "cell_type": "code",
   "execution_count": 3,
   "id": "ordinary-helena",
   "metadata": {
    "tags": [
     "fetch-duplicates"
    ]
   },
   "outputs": [
    {
     "name": "stdout",
     "output_type": "stream",
     "text": [
      "Resolving duplicates...\n",
      "Got: 0 duplicates\n",
      "Done!\n",
      "CPU times: user 106 ms, sys: 13.7 ms, total: 119 ms\n",
      "Wall time: 4.22 s\n"
     ]
    }
   ],
   "source": [
    "%%time\n",
    "print(\"Resolving duplicates...\")\n",
    "items_duplicate_attach, pdf_attachments = get_items_with_duplicate_pdf(zot, lib_items)\n",
    "print(f\"Got: {len(items_duplicate_attach)} duplicates\")\n",
    "print(\"Done!\")"
   ]
  },
  {
   "cell_type": "markdown",
   "id": "martial-adaptation",
   "metadata": {
    "tags": []
   },
   "source": [
    "# Report items with multiple attachments\n",
    "\n",
    "Multiple attachments are ok.  \n",
    "We are looking for duplicate pdf files.   \n"
   ]
  },
  {
   "cell_type": "code",
   "execution_count": 4,
   "id": "cubic-bunch",
   "metadata": {},
   "outputs": [
    {
     "name": "stdout",
     "output_type": "stream",
     "text": [
      "found 0 items with duplicate pdf files\n"
     ]
    }
   ],
   "source": [
    "for item in items_duplicate_attach:\n",
    "    if is_standalone(item):\n",
    "        continue\n",
    "\n",
    "    key = item[\"key\"]    \n",
    "    firstname = \"UNKNOWN\"\n",
    "    lastname = \"UNKNOWN\"\n",
    "    creators = item[\"data\"][\"creators\"]  # could be author or editor\n",
    "    for creator in creators:\n",
    "        if creator[\"creatorType\"] == \"author\":\n",
    "            firstname = creator[\"firstName\"]\n",
    "            lastname = creator[\"lastName\"]\n",
    "            break\n",
    "\n",
    "    print(\n",
    "        f\"\"\"\n",
    "    Title: {item['data']['title']}\n",
    "    Author: {firstname}, {lastname}\n",
    "    PDF attachements: {pdf_attachments[key]}\n",
    "    ----\"\"\"\n",
    "    )\n",
    "\n",
    "print(f\"found {len(items_duplicate_attach)} items with duplicate pdf files\")"
   ]
  },
  {
   "cell_type": "markdown",
   "id": "03e308eb-c93e-4cf1-be82-52244261f801",
   "metadata": {},
   "source": [
    "# Report items without pdfs \n",
    "\n",
    "just report. "
   ]
  },
  {
   "cell_type": "code",
   "execution_count": 10,
   "id": "3b37c0a5-8842-480c-a84a-3b5df834edff",
   "metadata": {},
   "outputs": [
    {
     "name": "stdout",
     "output_type": "stream",
     "text": [
      "Retrieve items without pdf file ...\n",
      "Found 6 items\n",
      "Item \n",
      "        Key: MMGVZVEE\n",
      "        ItemType: conferencePaper\n",
      "        Title: Modelling Crowd Dynamics and Crowd Management Strategies\n",
      "        \n",
      "            Author: Andrew J., Park\n",
      "            File: NO_ATTACHMENT | Type: NO_TYPE\n",
      "            Num Attach: 0\n",
      "            ----\n",
      "Item \n",
      "        Key: XTMXBQ5K\n",
      "        ItemType: conferencePaper\n",
      "        Title: Effects of Language Familiarity in Simulated Natural Dialogue with a Virtual Crowd of Digital Humans on Emotion Contagion in Virtual Reality\n",
      "        \n",
      "            Author: Matias, Volonte\n",
      "            File: NO_ATTACHMENT | Type: NO_TYPE\n",
      "            Num Attach: 0\n",
      "            ----\n",
      "Item \n",
      "        Key: PPEESNXH\n",
      "        ItemType: journalArticle\n",
      "        Title: Algorithms for Microscopic Crowd Simulation: Advancements in the 2010s\n",
      "        \n",
      "            Author: W., Toll\n",
      "            File: NO_ATTACHMENT | Type: NO_TYPE\n",
      "            Num Attach: 0\n",
      "            ----\n",
      "Item \n",
      "        Key: KCIVDM9W\n",
      "        ItemType: journalArticle\n",
      "        Title: Explicit Modeling of Personal Space for Improved Local Dynamics in Simulated Crowds\n",
      "        \n",
      "            Author: Omar, Hesham\n",
      "            File: NO_ATTACHMENT | Type: NO_TYPE\n",
      "            Num Attach: 0\n",
      "            ----\n",
      "Item \n",
      "        Key: QLLAWTGF\n",
      "        ItemType: journalArticle\n",
      "        Title: Dynamic Voronoi Diagram for Moving Disks\n",
      "        \n",
      "            Author: Chanyoung, Song\n",
      "            File: NO_ATTACHMENT | Type: NO_TYPE\n",
      "            Num Attach: 0\n",
      "            ----\n",
      "Item \n",
      "        Key: E9HFCA72\n",
      "        ItemType: journalArticle\n",
      "        Title: Heter-Sim: Heterogeneous Multi-Agent Systems Simulation by Interactive Data-Driven Optimization\n",
      "        \n",
      "            Author: Jiaping, Ren\n",
      "            File: NO_ATTACHMENT | Type: NO_TYPE\n",
      "            Num Attach: 0\n",
      "            ----\n"
     ]
    }
   ],
   "source": [
    "print(\"Retrieve items without pdf file ...\")\n",
    "items_without_pdf = get_items_with_no_pdf_attachments(zot, lib_items)\n",
    "if items_without_pdf:\n",
    "    print(f\"Found {len(items_without_pdf)} items\")\n",
    "    STATUS_OK = False\n",
    "    \n",
    "for item in items_without_pdf:\n",
    "    log_item(item)"
   ]
  },
  {
   "cell_type": "markdown",
   "id": "powered-reunion",
   "metadata": {},
   "source": [
    "## Remove items with duplicate attachments\n",
    "\n",
    "**WARNING**: This cell is dangerous!\n",
    "\n",
    "Here, duplicate attachments are getting removed.\n",
    "\n",
    "Execution of [Get Items with duplicate pdf files](remove_duplicate_attachments.ipynb#fetch-duplicates) is necessary \n",
    "to fetch `items_duplicate_attach` and `pdf_attachments`"
   ]
  },
  {
   "cell_type": "code",
   "execution_count": 5,
   "id": "compact-suffering",
   "metadata": {},
   "outputs": [
    {
     "name": "stdout",
     "output_type": "stream",
     "text": [
      "Updating library...\n",
      "===========\n",
      "===========\n",
      "No attachments deleted!\n",
      "Done at 19:9:6\n"
     ]
    }
   ],
   "source": [
    "print(\"Updating library...\")\n",
    "print(\"===========\")\n",
    "deleted_attachment = False\n",
    "\n",
    "for item in items_duplicate_attach:\n",
    "    files = pdf_attachments[item[\"key\"]]\n",
    "    cs = zot.children(item[\"key\"])\n",
    "    print(\"-----\")\n",
    "\n",
    "    # DANGER AREA!!\n",
    "    if (\n",
    "        len(set(files)) == 1 and len(files) > 1\n",
    "    ):  # some items have different pdf files, like suppl materials. Should not delete\n",
    "        # here attachments are all named the same -->  a sign of duplicates\n",
    "        print(\"all files are the same. Proceed deleting ..\")\n",
    "        deleted_attachment = delete_pdf_attachments(cs)\n",
    "\n",
    "    else:  # manual mode!\n",
    "        deleted_attachment = delete_pdf_attachments(cs, True)\n",
    "\n",
    "print(\"===========\")\n",
    "T = dt.datetime.now()\n",
    "\n",
    "if deleted_attachment:\n",
    "    print(\"Attachments deleted!\")\n",
    "    STATUS_OK = False\n",
    "else:\n",
    "    print(\"No attachments deleted!\")\n",
    "\n",
    "print(f\"Done at {T.hour}:{T.minute}:{T.second}\")"
   ]
  },
  {
   "cell_type": "markdown",
   "id": "searching-nancy",
   "metadata": {},
   "source": [
    "## Delete duplicate tag\n",
    "<a id='tags'></a>"
   ]
  },
  {
   "cell_type": "code",
   "execution_count": 6,
   "id": "coordinate-lancaster",
   "metadata": {},
   "outputs": [],
   "source": [
    "if DELETE_TAGS and deleted_attachement:\n",
    "    zot.delete_tags(\"#duplicate-citation-key\")"
   ]
  },
  {
   "cell_type": "markdown",
   "id": "judicial-output",
   "metadata": {},
   "source": [
    "# Report\n",
    "\n",
    "- Check if Trash is empty\n",
    "- Standalone items"
   ]
  },
  {
   "cell_type": "code",
   "execution_count": 7,
   "id": "italian-terry",
   "metadata": {},
   "outputs": [
    {
     "name": "stdout",
     "output_type": "stream",
     "text": [
      "\n",
      "----\n",
      "Trash is empty!\n"
     ]
    }
   ],
   "source": [
    "if len(zot.trash()) > 0:\n",
    "    print(\"Trash is not empty. Consider emptying it!\")\n",
    "    STATUS_OK = False\n",
    "else:\n",
    "    print(\"\\n----\\nTrash is empty!\")"
   ]
  },
  {
   "cell_type": "code",
   "execution_count": 8,
   "id": "aec4642e-1ab3-4270-af9a-f3c9cf1979ec",
   "metadata": {},
   "outputs": [
    {
     "name": "stdout",
     "output_type": "stream",
     "text": [
      "Check standalone items ...\n",
      "Found 0 items.\n",
      "Library is OK!\n"
     ]
    }
   ],
   "source": [
    "print(\"Check standalone items ...\")\n",
    "standalone_items = get_standalone_items(lib_items)\n",
    "print(f\"Found {len(standalone_items)} items.\")\n",
    "if standalone_items:\n",
    "    STATUS_OK = False\n",
    "\n",
    "for standalone_item in standalone_items:\n",
    "    log_item(standalone_item)\n",
    "    \n",
    "if STATUS_OK:\n",
    "    print(f\"Library is OK!\")    "
   ]
  }
 ],
 "metadata": {
  "kernelspec": {
   "display_name": "Python 3",
   "language": "python",
   "name": "python3"
  },
  "language_info": {
   "codemirror_mode": {
    "name": "ipython",
    "version": 3
   },
   "file_extension": ".py",
   "mimetype": "text/x-python",
   "name": "python",
   "nbconvert_exporter": "python",
   "pygments_lexer": "ipython3",
   "version": "3.9.10"
  }
 },
 "nbformat": 4,
 "nbformat_minor": 5
}
