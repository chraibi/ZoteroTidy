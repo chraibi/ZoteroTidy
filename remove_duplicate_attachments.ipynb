{
 "cells": [
  {
   "cell_type": "markdown",
   "id": "appreciated-pilot",
   "metadata": {},
   "source": [
    "# Get config parameters\n",
    "\n",
    "## Data needed\n",
    "We need three informations:\n",
    "- the **ID of the group** library.  \n",
    "  Can be found by opening the group’s page: https://www.zotero.org/groups/groupname,   \n",
    "  and hovering over the group settings link.\n",
    "- the **API key** from the Zotero [site](https://www.zotero.org/settings/keys/new)\n",
    "- **library_type** \n",
    "  - own Zotero library --> user\n",
    "  - shared library --> group\n",
    "  \n",
    "## Config file\n",
    "\n",
    "Rename `config_template.cfg` to `config.cfg` and populate it with the three information as explained above."
   ]
  },
  {
   "cell_type": "code",
   "execution_count": 1,
   "id": "732ff73c-4730-41ec-a8d5-b3d4da3c0674",
   "metadata": {},
   "outputs": [],
   "source": [
    "%run config.ipynb"
   ]
  },
  {
   "cell_type": "markdown",
   "id": "universal-proposition",
   "metadata": {},
   "source": [
    "# Retrieve data from server "
   ]
  },
  {
   "cell_type": "code",
   "execution_count": 2,
   "id": "dietary-cisco",
   "metadata": {},
   "outputs": [],
   "source": [
    "zot, lib_items = retrieve_data()"
   ]
  },
  {
   "cell_type": "markdown",
   "id": "american-thread",
   "metadata": {},
   "source": [
    "# Get Items with duplicate pdf files\n",
    "<a id='fetch-duplicate-pdf'></a>\n",
    "\n",
    "This cell makes many calls to the server (retrieving per item children), therefore it might be a bit slow!\n",
    "\n",
    "So, patience ..."
   ]
  },
  {
   "cell_type": "code",
   "execution_count": 3,
   "id": "ordinary-helena",
   "metadata": {
    "tags": [
     "fetch-duplicates"
    ]
   },
   "outputs": [],
   "source": [
    "%%time\n",
    "log.info(\"Resolving duplicates...\")\n",
    "items_duplicate_attach, pdf_attachments = get_items_with_duplicate_pdf(zot, lib_items)\n",
    "log.info(f\"Got: {len(items_duplicate_attach)} duplicates\")\n",
    "log.info(\"Done!\")"
   ]
  },
  {
   "cell_type": "markdown",
   "id": "martial-adaptation",
   "metadata": {
    "tags": []
   },
   "source": [
    "# Report items with multiple attachments\n",
    "\n",
    "Multiple attachments are ok.  \n",
    "We are looking for duplicate pdf files.   \n"
   ]
  },
  {
   "cell_type": "code",
   "execution_count": 5,
   "id": "cubic-bunch",
   "metadata": {},
   "outputs": [],
   "source": [
    "if items_duplicate_attach:\n",
    "    log.info(f\"Items with duplicate pdf files: \")\n",
    "    \n",
    "for item in items_duplicate_attach:\n",
    "    if is_standalone(item):\n",
    "        continue\n",
    "\n",
    "    key = item[\"key\"]    \n",
    "    firstname = \"UNKNOWN\"\n",
    "    lastname = \"UNKNOWN\"\n",
    "    creators = item[\"data\"][\"creators\"]  # could be author or editor\n",
    "    for creator in creators:\n",
    "        if creator[\"creatorType\"] == \"author\":\n",
    "            firstname = creator[\"firstName\"]\n",
    "            lastname = creator[\"lastName\"]\n",
    "            break\n",
    "\n",
    "    msg =f\"\"\"Item:\n",
    "    Title: {item['data']['title']}\n",
    "    Author: {firstname}, {lastname}\n",
    "    PDF attachements: {pdf_attachments[key]}\n",
    "    ----\"\"\"\n",
    "    log.info(inspect.cleandoc(msg))\n",
    "\n",
    "if items_duplicate_attach:\n",
    "    log.warning(f\"found {len(items_duplicate_attach)} items with duplicate pdf files.\")\n",
    "else:\n",
    "    log.info(f\"no items with duplicate pdf files found.\")"
   ]
  },
  {
   "cell_type": "markdown",
   "id": "03e308eb-c93e-4cf1-be82-52244261f801",
   "metadata": {},
   "source": [
    "# Report items without pdfs \n",
    "\n",
    "This cell makes many calls to the server (retrieving per item children), therefore it might be a bit slow!\n",
    "\n",
    "So, patience ..."
   ]
  },
  {
   "cell_type": "code",
   "execution_count": 6,
   "id": "3b37c0a5-8842-480c-a84a-3b5df834edff",
   "metadata": {},
   "outputs": [],
   "source": [
    "%%time\n",
    "log.info(\"Retrieve items without pdf file ...\")\n",
    "items_without_pdf = get_items_with_no_pdf_attachments(zot, lib_items)\n",
    "if items_without_pdf:\n",
    "    log.warning(f\"Found {len(items_without_pdf)} items\")\n",
    "    STATUS_OK = False\n",
    "    \n",
    "for item in items_without_pdf:\n",
    "    log_title(item)"
   ]
  },
  {
   "cell_type": "markdown",
   "id": "powered-reunion",
   "metadata": {},
   "source": [
    "## Remove items with duplicate attachments\n",
    "\n",
    "**WARNING**: This cell is dangerous!\n",
    "\n",
    "Here, duplicate attachments are getting removed.\n",
    "\n",
    "Execution of [Get Items with duplicate pdf files](remove_duplicate_attachments.ipynb#fetch-duplicate-pdf) is necessary \n",
    "to fetch `items_duplicate_attach` and `pdf_attachments`"
   ]
  },
  {
   "cell_type": "code",
   "execution_count": 8,
   "id": "compact-suffering",
   "metadata": {},
   "outputs": [],
   "source": [
    "if items_duplicate_attach:\n",
    "    log.info(\"Updating library...\")\n",
    "    \n",
    "deleted_attachment = False\n",
    "for item in items_duplicate_attach:\n",
    "    files = pdf_attachments[item[\"key\"]]\n",
    "    cs = zot.children(item[\"key\"])\n",
    "    print(\"-----\")\n",
    "\n",
    "    # DANGER AREA!!\n",
    "    if (\n",
    "        len(set(files)) == 1 and len(files) > 1\n",
    "    ):  # some items have different pdf files, like suppl materials. Should not delete\n",
    "        # here attachments are all named the same -->  a sign of duplicates\n",
    "        log.warning(\"all files are the same. Proceed deleting ..\")\n",
    "        deleted_attachment = delete_pdf_attachments(cs)\n",
    "\n",
    "    else:  # manual mode!\n",
    "        deleted_attachment = delete_pdf_attachments(cs, True)\n",
    "\n",
    "T = dt.datetime.now()\n",
    "\n",
    "if deleted_attachment:\n",
    "    log.warning(\"Attachments deleted!\")\n",
    "    STATUS_OK = False\n",
    "else:\n",
    "    log.info(\"No attachments deleted!\")\n",
    "\n",
    "log.info(f\"Done at {T.hour}:{T.minute}:{T.second}\")"
   ]
  },
  {
   "cell_type": "markdown",
   "id": "searching-nancy",
   "metadata": {},
   "source": [
    "## Delete duplicate tag\n",
    "<a id='tags'></a>"
   ]
  },
  {
   "cell_type": "code",
   "execution_count": null,
   "id": "coordinate-lancaster",
   "metadata": {},
   "outputs": [],
   "source": [
    "if DELETE_TAGS and deleted_attachement:\n",
    "    zot.delete_tags(\"#duplicate-citation-key\")"
   ]
  },
  {
   "cell_type": "markdown",
   "id": "judicial-output",
   "metadata": {},
   "source": [
    "# Report\n",
    "\n",
    "- Check if Trash is empty\n",
    "- Standalone items"
   ]
  },
  {
   "cell_type": "code",
   "execution_count": 11,
   "id": "italian-terry",
   "metadata": {},
   "outputs": [],
   "source": [
    "if len(zot.trash()) > 0:\n",
    "    log.warning(\"Trash is not empty. Consider emptying it!\")\n",
    "    STATUS_OK = False\n",
    "else:\n",
    "    log.info(\"\\n----\\nTrash is empty!\")"
   ]
  },
  {
   "cell_type": "code",
   "execution_count": 13,
   "id": "aec4642e-1ab3-4270-af9a-f3c9cf1979ec",
   "metadata": {},
   "outputs": [],
   "source": [
    "log.info(\"Check standalone items ...\")\n",
    "standalone_items = get_standalone_items(lib_items)    \n",
    "if standalone_items:\n",
    "    log.warning(f\"Found {len(standalone_items)} items.\")\n",
    "    STATUS_OK = False\n",
    "else:\n",
    "    log.info(f\"Found {len(standalone_items)}.\")  \n",
    "\n",
    "for standalone_item in standalone_items:\n",
    "    log_item(standalone_item)\n",
    "    \n",
    "if STATUS_OK:\n",
    "    log.info(f\"Library is OK!\")    "
   ]
  }
 ],
 "metadata": {
  "kernelspec": {
   "display_name": "Python 3",
   "language": "python",
   "name": "python3"
  },
  "language_info": {
   "codemirror_mode": {
    "name": "ipython",
    "version": 3
   },
   "file_extension": ".py",
   "mimetype": "text/x-python",
   "name": "python",
   "nbconvert_exporter": "python",
   "pygments_lexer": "ipython3",
   "version": "3.9.10"
  }
 },
 "nbformat": 4,
 "nbformat_minor": 5
}
