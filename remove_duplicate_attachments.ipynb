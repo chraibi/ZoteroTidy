{
 "cells": [
  {
   "cell_type": "markdown",
   "id": "appreciated-pilot",
   "metadata": {},
   "source": [
    "# Get config parameters\n",
    "\n",
    "## Data needed\n",
    "We need three informations:\n",
    "- the **ID of the group** library.  \n",
    "  Can be found by opening the group’s page: https://www.zotero.org/groups/groupname,   \n",
    "  and hovering over the group settings link.\n",
    "- the **API key** from the Zotero [site](https://www.zotero.org/settings/keys/new)\n",
    "- **library_type** \n",
    "  - own Zotero library --> user\n",
    "  - shared library --> group\n",
    "  \n",
    "## Config file\n",
    "\n",
    "Rename `config_template.cfg` to `config.cfg` and populate it with the three information as explained above."
   ]
  },
  {
   "cell_type": "code",
   "execution_count": null,
   "id": "industrial-cornell",
   "metadata": {},
   "outputs": [],
   "source": [
    "%run config.ipynb"
   ]
  },
  {
   "cell_type": "markdown",
   "id": "universal-proposition",
   "metadata": {},
   "source": [
    "# Retrieve data from server "
   ]
  },
  {
   "cell_type": "code",
   "execution_count": null,
   "id": "dietary-cisco",
   "metadata": {},
   "outputs": [],
   "source": [
    "zot, lib_items = retrieve_data()"
   ]
  },
  {
   "cell_type": "markdown",
   "id": "american-thread",
   "metadata": {},
   "source": [
    "# Get Items with duplicate pdf files\n",
    "<a id='fetch-duplicates'></a>"
   ]
  },
  {
   "cell_type": "code",
   "execution_count": null,
   "id": "ordinary-helena",
   "metadata": {
    "tags": [
     "fetch-duplicates"
    ]
   },
   "outputs": [],
   "source": [
    "print(\"Resolving duplicates...\")\n",
    "items_duplicate_attach, pdf_attachments = get_items_with_duplicate_pdf(zot, lib_items)\n",
    "print(f\"Got: {len(items_duplicate_attach)} duplicates\")\n",
    "print(\"Done!\")"
   ]
  },
  {
   "cell_type": "markdown",
   "id": "martial-adaptation",
   "metadata": {
    "tags": []
   },
   "source": [
    "# Report items with multiple attachments\n",
    "\n",
    "Multiple attachments are ok.  \n",
    "We are looking for duplicate pdf files.   \n"
   ]
  },
  {
   "cell_type": "code",
   "execution_count": null,
   "id": "cubic-bunch",
   "metadata": {},
   "outputs": [],
   "source": [
    "for item in items_duplicate_attach:\n",
    "    if is_standalone(item):\n",
    "        continue\n",
    "\n",
    "    key = item[\"key\"]    \n",
    "    firstname = \"UNKNOWN\"\n",
    "    lastname = \"UNKNOWN\"\n",
    "    creators = item[\"data\"][\"creators\"]  # could be author or editor\n",
    "    for creator in creators:\n",
    "        if creator[\"creatorType\"] == \"author\":\n",
    "            firstname = creator[\"firstName\"]\n",
    "            lastname = creator[\"lastName\"]\n",
    "            break\n",
    "\n",
    "    print(\n",
    "        f\"\"\"\n",
    "    Title: {item['data']['title']}\n",
    "    Author: {firstname}, {lastname}\n",
    "    PDF attachements: {pdf_attachments[key]}\n",
    "    ----\"\"\"\n",
    "    )\n",
    "\n",
    "print(f\"found {len(items_duplicate_attach)} items with duplicate pdf files\")"
   ]
  },
  {
   "cell_type": "markdown",
   "id": "powered-reunion",
   "metadata": {},
   "source": [
    "## Remove items with duplicate attachments\n",
    "\n",
    "**WARNING**: This cell is dangerous!\n",
    "\n",
    "Here, duplicate attachments are getting removed.\n",
    "\n",
    "Execution of [Get Items with duplicate pdf files](remove_duplicate_attachments.ipynb#fetch-duplicates) is necessary \n",
    "to fetch `items_duplicate_attach` and `pdf_attachments`"
   ]
  },
  {
   "cell_type": "code",
   "execution_count": null,
   "id": "compact-suffering",
   "metadata": {},
   "outputs": [],
   "source": [
    "print(\"Updating library...\")\n",
    "print(\"===========\")\n",
    "deleted_attachment = False\n",
    "\n",
    "for item in items_duplicate_attach:\n",
    "    files = pdf_attachments[item[\"key\"]]\n",
    "    cs = zot.children(item[\"key\"])\n",
    "    print(\"-----\")\n",
    "\n",
    "    # DANGER AREA!!\n",
    "    if (\n",
    "        len(set(files)) == 1 and len(files) > 1\n",
    "    ):  # some items have different pdf files, like suppl materials. Should not delete\n",
    "        # here attachments are all named the same -->  a sign of duplicates\n",
    "        print(\"all files are the same. Proceed deleting ..\")\n",
    "        deleted_attachment = delete_pdf_attachments(cs)\n",
    "\n",
    "    else:  # manual mode!\n",
    "        deleted_attachment = delete_pdf_attachments(cs, True)\n",
    "\n",
    "print(\"===========\")\n",
    "T = dt.datetime.now()\n",
    "if deleted_attachment:\n",
    "    print(\"Attachments deleted!\")\n",
    "else:\n",
    "    print(\"No attachments deleted!\")\n",
    "\n",
    "print(f\"Done at {T.hour}:{T.minute}:{T.second}\")"
   ]
  },
  {
   "cell_type": "markdown",
   "id": "searching-nancy",
   "metadata": {},
   "source": [
    "## Delete duplicate tag\n",
    "<a id='tags'></a>"
   ]
  },
  {
   "cell_type": "code",
   "execution_count": null,
   "id": "coordinate-lancaster",
   "metadata": {},
   "outputs": [],
   "source": [
    "if DELETE_TAGS and deleted_attachement:\n",
    "    zot.delete_tags(\"#duplicate-citation-key\")"
   ]
  },
  {
   "cell_type": "markdown",
   "id": "judicial-output",
   "metadata": {},
   "source": [
    "# Check if Trash is empty"
   ]
  },
  {
   "cell_type": "code",
   "execution_count": null,
   "id": "italian-terry",
   "metadata": {},
   "outputs": [],
   "source": [
    "if len(zot.trash()) > 0:\n",
    "    print(\"Trash is not empty. Consider emptying it!\")"
   ]
  }
 ],
 "metadata": {
  "kernelspec": {
   "display_name": "Python 3",
   "language": "python",
   "name": "python3"
  },
  "language_info": {
   "codemirror_mode": {
    "name": "ipython",
    "version": 3
   },
   "file_extension": ".py",
   "mimetype": "text/x-python",
   "name": "python",
   "nbconvert_exporter": "python",
   "pygments_lexer": "ipython3",
   "version": "3.9.10"
  }
 },
 "nbformat": 4,
 "nbformat_minor": 5
}
