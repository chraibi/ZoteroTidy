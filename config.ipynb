{
 "cells": [
  {
   "cell_type": "code",
   "execution_count": null,
   "id": "monetary-rwanda",
   "metadata": {},
   "outputs": [],
   "source": [
    "import os\n",
    "import sys\n",
    "import configparser\n",
    "import datetime as dt\n",
    "from collections import defaultdict\n",
    "from datetime import datetime\n",
    "\n",
    "from pyzotero import zotero"
   ]
  },
  {
   "cell_type": "code",
   "execution_count": null,
   "id": "brilliant-default",
   "metadata": {},
   "outputs": [],
   "source": [
    "DATE_FMT = \"%Y-%m-%dT%XZ\""
   ]
  },
  {
   "cell_type": "markdown",
   "id": "ranking-drink",
   "metadata": {},
   "source": [
    "# Load config"
   ]
  },
  {
   "cell_type": "code",
   "execution_count": null,
   "id": "sitting-benchmark",
   "metadata": {},
   "outputs": [],
   "source": [
    "config_file = r\"config.cfg\"\n",
    "if not os.path.exists(config_file):\n",
    "    print(f\"config file {config_file} does not exist!\")\n",
    "    sys.exit(0)\n",
    "    \n",
    "configFilePath = config_file \n",
    "configParser = configparser.RawConfigParser()\n",
    "configParser.read(configFilePath)\n",
    "library_id = int(configParser.get(\"zotero-config\", \"library_id\"))\n",
    "api_key = configParser.get(\"zotero-config\", \"api_key\")\n",
    "library_type = configParser.get(\"zotero-config\", \"library_type\")"
   ]
  },
  {
   "cell_type": "markdown",
   "id": "quality-buddy",
   "metadata": {},
   "source": [
    "# Define functions"
   ]
  },
  {
   "cell_type": "code",
   "execution_count": null,
   "id": "confused-black",
   "metadata": {},
   "outputs": [],
   "source": [
    "def date_added(item):\n",
    "    return datetime.strptime(item[\"data\"][\"dateAdded\"], DATE_FMT)"
   ]
  },
  {
   "cell_type": "code",
   "execution_count": null,
   "id": "conventional-teach",
   "metadata": {},
   "outputs": [],
   "source": [
    "def attachment_is_pdf(_child):\n",
    "    return (\n",
    "        _child[\"data\"][\"itemType\"] == \"attachment\"\n",
    "        and _child[\"data\"][\"contentType\"] == \"application/pdf\"\n",
    "    )"
   ]
  },
  {
   "cell_type": "code",
   "execution_count": null,
   "id": "clinical-japanese",
   "metadata": {},
   "outputs": [],
   "source": [
    "def get_items_with_duplicate_pdf(_items):\n",
    "    _items_duplicate_attach = []\n",
    "    _pdf_attachments = defaultdict(list)\n",
    "    for _item in _items:\n",
    "        key = _item[\"key\"]\n",
    "        cs = zot.children(key)\n",
    "        for c in cs:\n",
    "            if attachment_is_pdf(c):\n",
    "                _pdf_attachments[key].append(c[\"data\"][\"filename\"])\n",
    "\n",
    "        if len(_pdf_attachments[key]) > 1:\n",
    "            _items_duplicate_attach.append(_item)\n",
    "\n",
    "    return _items_duplicate_attach, _pdf_attachments"
   ]
  },
  {
   "cell_type": "code",
   "execution_count": null,
   "id": "psychological-tackle",
   "metadata": {},
   "outputs": [],
   "source": [
    "def retrieve_data():\n",
    "    print(\"Retrieving Library...\")\n",
    "    zot = zotero.Zotero(library_id, library_type, api_key)\n",
    "    lib_items = zot.everything(zot.top())\n",
    "    T = dt.datetime.now()\n",
    "    print(f\"Done at {T.hour}:{T.minute}:{T.second}\")\n",
    "    return lib_items"
   ]
  },
  {
   "cell_type": "markdown",
   "id": "looking-philadelphia",
   "metadata": {},
   "source": [
    "# Delete own attachments \n",
    "<a id='del-attach'></a>\n",
    "\n",
    "Important when merging duplicate items. See explanations in \n",
    "[this cell](merge_duplicate_items.ipynb#del-attach).\n",
    "\n"
   ]
  },
  {
   "cell_type": "code",
   "execution_count": null,
   "id": "juvenile-morgan",
   "metadata": {},
   "outputs": [],
   "source": [
    "DELETE_OWN_ATTACHMENTS = True"
   ]
  },
  {
   "cell_type": "markdown",
   "id": "young-mentor",
   "metadata": {},
   "source": [
    "# Delete Tags \n",
    "\n",
    "Zotero creates special tags to mark duplicates (`duplicate-citation-key`).\n",
    "Set this to `True` to remove them in this [this cell](remove_duplicate_attachments.ipynb#tags)."
   ]
  },
  {
   "cell_type": "code",
   "execution_count": null,
   "id": "pediatric-corruption",
   "metadata": {},
   "outputs": [],
   "source": [
    "DELETE_TAGS = False  # @todo: check if this is necessary"
   ]
  }
 ],
 "metadata": {
  "kernelspec": {
   "display_name": "Python 3",
   "language": "python",
   "name": "python3"
  },
  "language_info": {
   "codemirror_mode": {
    "name": "ipython",
    "version": 3
   },
   "file_extension": ".py",
   "mimetype": "text/x-python",
   "name": "python",
   "nbconvert_exporter": "python",
   "pygments_lexer": "ipython3",
   "version": "3.9.10"
  }
 },
 "nbformat": 4,
 "nbformat_minor": 5
}
