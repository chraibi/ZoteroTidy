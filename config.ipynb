{
 "cells": [
  {
   "cell_type": "code",
   "execution_count": null,
   "id": "needed-insider",
   "metadata": {},
   "outputs": [],
   "source": [
    "import os\n",
    "import sys\n",
    "import configparser\n",
    "import datetime as dt\n",
    "from collections import defaultdict\n",
    "from datetime import datetime\n",
    "\n",
    "from pyzotero import zotero\n",
    "\n",
    "DATE_FMT = \"%Y-%m-%dT%XZ\""
   ]
  },
  {
   "cell_type": "markdown",
   "id": "centered-female",
   "metadata": {},
   "source": [
    "# Settup flags\n",
    "These variables should be updated before start\n",
    "\n",
    "## Delete own attachments \n",
    "<a id='del-attach'></a>\n",
    "\n",
    "Important when merging duplicate items. See explanations in \n",
    "[this cell](merge_duplicate_items.ipynb#del-attach).\n",
    "\n",
    "\n",
    "## Delete Tags \n",
    "\n",
    "Zotero creates special tags to mark duplicates (`duplicate-citation-key`).\n",
    "Set this to `True` to remove them in this [this cell](remove_duplicate_attachments.ipynb#tags)."
   ]
  },
  {
   "cell_type": "code",
   "execution_count": null,
   "id": "cubic-tract",
   "metadata": {
    "tags": []
   },
   "outputs": [],
   "source": [
    "DELETE_OWN_ATTACHMENTS = True"
   ]
  },
  {
   "cell_type": "code",
   "execution_count": null,
   "id": "waiting-arena",
   "metadata": {},
   "outputs": [],
   "source": [
    "DELETE_TAGS = False  # @todo: check if this is necessary"
   ]
  },
  {
   "cell_type": "markdown",
   "id": "verbal-calculation",
   "metadata": {},
   "source": [
    "# Load config"
   ]
  },
  {
   "cell_type": "code",
   "execution_count": null,
   "id": "noticed-producer",
   "metadata": {},
   "outputs": [],
   "source": [
    "config_file = r\"config.cfg\"\n",
    "if not os.path.exists(config_file):\n",
    "    print(f\"config file {config_file} does not exist!\")\n",
    "    sys.exit(0)\n",
    "    \n",
    "configFilePath = config_file \n",
    "configParser = configparser.RawConfigParser()\n",
    "configParser.read(configFilePath)\n",
    "library_id = int(configParser.get(\"zotero-config\", \"library_id\"))\n",
    "api_key = configParser.get(\"zotero-config\", \"api_key\")\n",
    "library_type = configParser.get(\"zotero-config\", \"library_type\")"
   ]
  },
  {
   "cell_type": "markdown",
   "id": "amino-silence",
   "metadata": {},
   "source": [
    "# Define functions"
   ]
  },
  {
   "cell_type": "code",
   "execution_count": null,
   "id": "ceramic-posting",
   "metadata": {},
   "outputs": [],
   "source": [
    "def date_added(item):\n",
    "    return datetime.strptime(item[\"data\"][\"dateAdded\"], DATE_FMT)"
   ]
  },
  {
   "cell_type": "code",
   "execution_count": null,
   "id": "acceptable-single",
   "metadata": {},
   "outputs": [],
   "source": [
    "def attachment_is_pdf(_child):\n",
    "    return (\n",
    "        _child[\"data\"][\"itemType\"] == \"attachment\"\n",
    "        and _child[\"data\"][\"contentType\"] == \"application/pdf\"\n",
    "    )"
   ]
  },
  {
   "cell_type": "code",
   "execution_count": null,
   "id": "composed-spending",
   "metadata": {},
   "outputs": [],
   "source": [
    "def get_items_with_duplicate_pdf(_items):\n",
    "    _items_duplicate_attach = []\n",
    "    _pdf_attachments = defaultdict(list)\n",
    "    for _item in _items:\n",
    "        key = _item[\"key\"]\n",
    "        cs = zot.children(key)\n",
    "        for c in cs:\n",
    "            if attachment_is_pdf(c):\n",
    "                _pdf_attachments[key].append(c[\"data\"][\"filename\"])\n",
    "\n",
    "        if len(_pdf_attachments[key]) > 1:\n",
    "            _items_duplicate_attach.append(_item)\n",
    "\n",
    "    return _items_duplicate_attach, _pdf_attachments"
   ]
  },
  {
   "cell_type": "code",
   "execution_count": null,
   "id": "musical-extra",
   "metadata": {},
   "outputs": [],
   "source": [
    "def retrieve_data():\n",
    "    print(\"Retrieving Library...\")\n",
    "    zot = zotero.Zotero(library_id, library_type, api_key)\n",
    "    lib_items = zot.everything(zot.top())\n",
    "    T = dt.datetime.now()\n",
    "    print(f\"Done at {T.hour}:{T.minute}:{T.second}\")\n",
    "    return zot, lib_items"
   ]
  },
  {
   "cell_type": "code",
   "execution_count": null,
   "id": "silent-employer",
   "metadata": {},
   "outputs": [],
   "source": [
    "def get_items_by_doi_or_isbn(lib_items):\n",
    "    items_by_doi_isbn = defaultdict(list)\n",
    "    for item in lib_items:\n",
    "        if \"DOI\" in item[\"data\"]:\n",
    "            items_by_doi_isbn[item[\"data\"][\"DOI\"]].append(item)\n",
    "        elif \"ISBN\" in item[\"data\"]:\n",
    "            items_by_doi_isbn[item[\"data\"][\"ISBN\"]].append(item)\n",
    "        \n",
    "    return items_by_doi_isbn "
   ]
  },
  {
   "cell_type": "code",
   "execution_count": 1,
   "id": "ranging-federation",
   "metadata": {},
   "outputs": [],
   "source": [
    "def log_delete(item):\n",
    "    if \"title\" in item[\"data\"].keys():\n",
    "        ttt = f\"{item['data']['title']}\"\n",
    "    else:\n",
    "        ttt = \"\"\n",
    "\n",
    "    print(\n",
    "        f\"\"\"deleting ... \n",
    "    Key: {item['data']['key']}\n",
    "    ItemType: {item['data']['itemType']}\n",
    "    Title: {ttt}\n",
    "    \"\"\"\n",
    "    )"
   ]
  }
 ],
 "metadata": {
  "kernelspec": {
   "display_name": "Python 3",
   "language": "python",
   "name": "python3"
  },
  "language_info": {
   "codemirror_mode": {
    "name": "ipython",
    "version": 3
   },
   "file_extension": ".py",
   "mimetype": "text/x-python",
   "name": "python",
   "nbconvert_exporter": "python",
   "pygments_lexer": "ipython3",
   "version": "3.9.10"
  }
 },
 "nbformat": 4,
 "nbformat_minor": 5
}
