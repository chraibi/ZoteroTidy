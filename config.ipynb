{
 "cells": [
  {
   "cell_type": "code",
   "execution_count": 21,
   "id": "needed-insider",
   "metadata": {},
   "outputs": [],
   "source": [
    "import configparser\n",
    "import datetime as dt\n",
    "import inspect\n",
    "import logging\n",
    "import os\n",
    "import sys\n",
    "from collections import defaultdict\n",
    "from datetime import datetime\n",
    "\n",
    "from pyzotero import zotero\n",
    "\n",
    "DATE_FMT = \"%Y-%m-%dT%XZ\"\n",
    "STATUS_OK = True"
   ]
  },
  {
   "cell_type": "markdown",
   "id": "centered-female",
   "metadata": {},
   "source": [
    "# Setup flags\n",
    "These variables should be updated before start\n",
    "\n",
    "## Delete own attachments \n",
    "<a id='del-attach'></a>\n",
    "\n",
    "Important when merging duplicate items. See explanations in \n",
    "[this cell](merge_duplicate_items.ipynb#del-attach).\n",
    "\n",
    "\n",
    "## Delete Tags \n",
    "\n",
    "Zotero creates special tags to mark duplicates (`duplicate-citation-key`).\n",
    "Set this to `True` to remove them in this [this cell](remove_duplicate_attachments.ipynb#tags)."
   ]
  },
  {
   "cell_type": "code",
   "execution_count": 2,
   "id": "cubic-tract",
   "metadata": {
    "tags": []
   },
   "outputs": [],
   "source": [
    "DELETE_OWN_ATTACHMENTS = True"
   ]
  },
  {
   "cell_type": "code",
   "execution_count": 3,
   "id": "waiting-arena",
   "metadata": {},
   "outputs": [],
   "source": [
    "DELETE_TAGS = False  # @todo: check if this is necessary"
   ]
  },
  {
   "cell_type": "markdown",
   "id": "verbal-calculation",
   "metadata": {},
   "source": [
    "# Load config"
   ]
  },
  {
   "cell_type": "code",
   "execution_count": 4,
   "id": "noticed-producer",
   "metadata": {},
   "outputs": [],
   "source": [
    "config_file = r\"config.cfg\"\n",
    "if not os.path.exists(config_file):\n",
    "    print(f\"config file {config_file} does not exist!\")\n",
    "    sys.exit(0)\n",
    "    \n",
    "configFilePath = config_file \n",
    "configParser = configparser.RawConfigParser()\n",
    "configParser.read(configFilePath)\n",
    "library_id = int(configParser.get(\"zotero-config\", \"library_id\"))\n",
    "api_key = configParser.get(\"zotero-config\", \"api_key\")\n",
    "library_type = configParser.get(\"zotero-config\", \"library_type\")"
   ]
  },
  {
   "cell_type": "markdown",
   "id": "amino-silence",
   "metadata": {},
   "source": [
    "# Define functions"
   ]
  },
  {
   "cell_type": "code",
   "execution_count": 5,
   "id": "ceramic-posting",
   "metadata": {},
   "outputs": [],
   "source": [
    "def date_added(_item):\n",
    "    return datetime.strptime(_item[\"data\"][\"dateAdded\"], DATE_FMT)"
   ]
  },
  {
   "cell_type": "code",
   "execution_count": 22,
   "id": "3cf752d5-30ed-4418-a099-f3305a8f14dc",
   "metadata": {},
   "outputs": [],
   "source": [
    "logfile = \"zotero.log\"\n",
    "logging.basicConfig(\n",
    "    level=logging.INFO,\n",
    "    format=\"%(levelname)s - %(asctime)s - %(message)s\",\n",
    "    handlers=[logging.FileHandler(filename=logfile), logging.StreamHandler(sys.stdout)],\n",
    ")\n",
    "log = logging.getLogger()\n",
    "## If file exists, delete it ##\n",
    "if os.path.isfile(logfile):\n",
    "    os.remove(logfile)"
   ]
  },
  {
   "cell_type": "code",
   "execution_count": 18,
   "id": "acceptable-single",
   "metadata": {},
   "outputs": [],
   "source": [
    "def attachment_is_pdf(_child):\n",
    "    return (\n",
    "        _child[\"data\"][\"itemType\"] == \"attachment\"\n",
    "        and _child[\"data\"][\"contentType\"] == \"application/pdf\"\n",
    "        and _child[\"data\"][\"linkMode\"] in [\"imported_file\", \"linked_file\", \"imported_url\"]\n",
    "    )\n",
    "# https://www.zotero.org/support/dev/web_api/v3/file_upload"
   ]
  },
  {
   "cell_type": "code",
   "execution_count": 7,
   "id": "composed-spending",
   "metadata": {},
   "outputs": [],
   "source": [
    "def get_items_with_duplicate_pdf(_zot, _items):\n",
    "    _items_duplicate_attach = []\n",
    "    _pdf_attachments = defaultdict(list)\n",
    "    for _item in _items:\n",
    "        if is_standalone(_item):\n",
    "            continue\n",
    "            \n",
    "        key = _item[\"key\"]\n",
    "        cs = _zot.children(key)\n",
    "        for c in cs:\n",
    "            if attachment_is_pdf(c):\n",
    "                _pdf_attachments[key].append(c[\"data\"][\"filename\"])\n",
    "\n",
    "        if len(_pdf_attachments[key]) > 1:\n",
    "            _items_duplicate_attach.append(_item)\n",
    "\n",
    "    return _items_duplicate_attach, _pdf_attachments"
   ]
  },
  {
   "cell_type": "code",
   "execution_count": null,
   "id": "06a9c724-55c5-4dd1-be59-f507d08a1158",
   "metadata": {},
   "outputs": [],
   "source": [
    "def get_items_with_no_pdf_attachments(_zot, _items):\n",
    "    _items_without_attach = []\n",
    "    for _item in _items:\n",
    "        has_attach = False\n",
    "        if is_standalone(_item):\n",
    "            continue\n",
    "            \n",
    "        key = _item[\"key\"]\n",
    "        cs = _zot.children(key)\n",
    "        for c in cs:\n",
    "            if attachment_is_pdf(c):\n",
    "                has_attach = True\n",
    "                break\n",
    "\n",
    "        if not has_attach:\n",
    "            _items_without_attach.append(_item)\n",
    "\n",
    "    return _items_without_attach"
   ]
  },
  {
   "cell_type": "code",
   "execution_count": 8,
   "id": "107b09d0-da53-4609-a1de-c8018546065a",
   "metadata": {},
   "outputs": [],
   "source": [
    "def get_standalone_items(_items):\n",
    "    standalone = []\n",
    "    for _item in _items:\n",
    "        if is_standalone(_item):\n",
    "            standalone.append(_item)\n",
    "\n",
    "    return standalone                "
   ]
  },
  {
   "cell_type": "code",
   "execution_count": 9,
   "id": "d8d6535a-34ba-4710-a541-8a90c4e17c21",
   "metadata": {},
   "outputs": [],
   "source": [
    "def is_standalone(_item):      \n",
    "    return _item[\"data\"][\"itemType\"] in ['note', 'attachment']"
   ]
  },
  {
   "cell_type": "code",
   "execution_count": 10,
   "id": "musical-extra",
   "metadata": {},
   "outputs": [],
   "source": [
    "def retrieve_data():\n",
    "    log.info(\"Retrieving Library...\")\n",
    "    zot = zotero.Zotero(library_id, library_type, api_key)\n",
    "    lib_items = zot.everything(zot.top())\n",
    "    T = dt.datetime.now()\n",
    "    log.info(f\"Got {len(lib_items)} items\")\n",
    "    log.info(f\"Done at {T.hour}:{T.minute}:{T.second}\")\n",
    "    return zot, lib_items"
   ]
  },
  {
   "cell_type": "code",
   "execution_count": 11,
   "id": "silent-employer",
   "metadata": {},
   "outputs": [],
   "source": [
    "def get_items_by_doi_or_isbn(_lib_items):\n",
    "    _items_by_doi_isbn = defaultdict(list)\n",
    "    for _item in _lib_items:\n",
    "        if \"DOI\" in _item[\"data\"]:\n",
    "            _items_by_doi_isbn[_item[\"data\"][\"DOI\"]].append(_item)\n",
    "        elif \"ISBN\" in _item[\"data\"]:\n",
    "            _items_by_doi_isbn[_item[\"data\"][\"ISBN\"]].append(_item)\n",
    "        \n",
    "    return _items_by_doi_isbn "
   ]
  },
  {
   "cell_type": "code",
   "execution_count": 16,
   "id": "ranging-federation",
   "metadata": {
    "tags": []
   },
   "outputs": [],
   "source": [
    "def log_item(_item):\n",
    "    if \"title\" in _item[\"data\"].keys():\n",
    "        ttt = f\"{_item['data']['title']}\"\n",
    "    else:\n",
    "        ttt = \"\"\n",
    "        \n",
    " \n",
    "    msg = f\"\"\"Item:\n",
    "        Title: {ttt}\n",
    "        Key: {_item['data']['key']}\n",
    "        ItemType: {_item['data']['itemType']}\n",
    "        \"\"\"\n",
    "    if not is_standalone(_item):    \n",
    "        creators = item[\"data\"][\"creators\"]  # could be author or editor\n",
    "        firstname = \"\"\n",
    "        lastname = \"\"\n",
    "        for creator in creators:\n",
    "            if creator[\"creatorType\"] == \"author\":\n",
    "                firstname = creator[\"firstName\"]\n",
    "                lastname = creator[\"lastName\"]\n",
    "                break\n",
    "\n",
    "        if \"attachment\" in item[\"links\"].keys():\n",
    "            attach = item[\"links\"][\"attachment\"][\"href\"].split(\"/\")[-1]\n",
    "            type_attach = item[\"links\"][\"attachment\"][\"attachmentType\"]\n",
    "        else:\n",
    "            attach = \"NO_ATTACHMENT\"\n",
    "            type_attach = \"NO_TYPE\"\n",
    "        \n",
    "        msg += f\"\"\"\n",
    "            Author: {firstname}, {lastname}\n",
    "            File: {attach} | Type: {type_attach}\n",
    "            Num Attach: {item['meta']['numChildren']}\n",
    "            ----\"\"\"\n",
    "   \n",
    "    log.info(inspect.cleandoc(msg))"
   ]
  },
  {
   "cell_type": "code",
   "execution_count": 13,
   "id": "75e5ab47-2904-41e9-afe6-c3ae8fb0f9e2",
   "metadata": {},
   "outputs": [],
   "source": [
    "def delete_pdf_attachments(_children, ask=False):\n",
    "    deleted_attachment = False\n",
    "    for child in _children[1:]:\n",
    "        if not attachment_is_pdf(child):\n",
    "            continue  # only for pdf files. Other files, like notes, zip, etc, should not be deleted, anyway.\n",
    "\n",
    "        if ask:\n",
    "            answer = input(f\"delete {child['data']['filename']}? (y[N])\")\n",
    "            if answer == \"y\":\n",
    "                log.warning(f\"deleting {child['data']['filename']}\")\n",
    "                zot.delete_item(child)\n",
    "                deleted_attachment = True\n",
    "\n",
    "        else:\n",
    "            log.warning(f\"deleting {child['data']['filename']}\")\n",
    "            zot.delete_item(child)\n",
    "            deleted_attachment = True\n",
    "\n",
    "    return deleted_attachment"
   ]
  },
  {
   "cell_type": "code",
   "execution_count": 19,
   "id": "a7d95961-d6b2-43db-bd2c-405b7d30d7c2",
   "metadata": {},
   "outputs": [],
   "source": [
    "def log_title(_item):\n",
    "    if \"title\" in _item[\"data\"].keys():\n",
    "        ttt = f\"{_item['data']['title']}\"\n",
    "    else:\n",
    "        ttt = \"\"\n",
    "        \n",
    "    msg = f\"Title: {ttt}\"\n",
    "    log.info(msg)"
   ]
  }
 ],
 "metadata": {
  "kernelspec": {
   "display_name": "Python 3",
   "language": "python",
   "name": "python3"
  },
  "language_info": {
   "codemirror_mode": {
    "name": "ipython",
    "version": 3
   },
   "file_extension": ".py",
   "mimetype": "text/x-python",
   "name": "python",
   "nbconvert_exporter": "python",
   "pygments_lexer": "ipython3",
   "version": "3.9.10"
  }
 },
 "nbformat": 4,
 "nbformat_minor": 5
}
