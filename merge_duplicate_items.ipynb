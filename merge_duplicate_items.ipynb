{
 "cells": [
  {
   "cell_type": "markdown",
   "id": "social-titanium",
   "metadata": {},
   "source": [
    "# Get config parameters\n",
    "\n",
    "## Data needed\n",
    "We need three informations:\n",
    "- the **ID of the group** library.  \n",
    "  Can be found by opening the group’s page: https://www.zotero.org/groups/groupname,   \n",
    "  and hovering over the group settings link.\n",
    "- the **API key** from the Zotero [site](https://www.zotero.org/settings/keys/new)\n",
    "- **library_type** \n",
    "  - own Zotero library --> user\n",
    "  - shared library --> group\n",
    "  \n",
    "## Config file\n",
    "\n",
    "Rename `config_template.cfg` to `config.cfg` and populate it with the three information as explained above."
   ]
  },
  {
   "cell_type": "code",
   "execution_count": null,
   "id": "homeless-jimmy",
   "metadata": {},
   "outputs": [],
   "source": [
    "%run config.ipynb"
   ]
  },
  {
   "cell_type": "markdown",
   "id": "prostate-understanding",
   "metadata": {},
   "source": [
    "# Loading data from library\n",
    "\n",
    "First, (manually) sync your Zotero library.\n",
    "\n",
    "Everythime, the library changes, this cell should be run, to retrieve the latest state of the library from the server."
   ]
  },
  {
   "cell_type": "code",
   "execution_count": null,
   "id": "narrative-croatia",
   "metadata": {},
   "outputs": [],
   "source": [
    "zot, lib_items = retrieve_data()"
   ]
  },
  {
   "cell_type": "markdown",
   "id": "curious-little",
   "metadata": {},
   "source": [
    "# Merge duplicates \n",
    "<a id='del-attach'></a>\n",
    "## Explanation \n",
    "### Situation\n",
    "We have duplicate `Items`, sorted with respect to the added date (oldest first): \n",
    "\n",
    "|Item|Number|Attachments |\n",
    ":---: | :---: | :---: |\n",
    "| $I_1$ |  1  | $PDF_1$ |\n",
    "| $I_2$ | 3  | $NOTE_2$, $PDF_2$, $OTHER_2$ |\n",
    "| $I_3$ | 2  | $NOTE_3$, $PDF_3$ |\n",
    "\n",
    "---\n",
    "\n",
    "**NOTE:**\n",
    "Duplicate items are identified based on their DOI and/or ISBN \n",
    "\n",
    "---\n",
    "\n",
    "### Actions\n",
    "This cell will do the following \n",
    "\n",
    "- Sort the Items with respect to added time (oldest first)\n",
    "- Keep the oldest `Item` (first added), i.e. $I_1$\n",
    "- Move all attachments of the newest `Item` to $I_1$\n",
    "- Delete other Items including their attachments ($I_2$ and $I_3$)\n",
    "\n",
    "### Result\n",
    "The result of the actions described above is: \n",
    "\n",
    "$I_1$ having 3 attachments\n",
    "- $PDF_1$, $NOTE_3$, $PDF_3$\n",
    "\n",
    "### Alternative result\n",
    "If you want to keep only the newest attachments, i.e., $I_1$ having 2 attachments\n",
    "$NOTE_3$, $PDF_3$ then you should set `DELTE_OWN_ATTACHMENTS = True` in \n",
    "[this cell](config.ipynb#del-attach).\n",
    "\n",
    "In this case, the own pdf file will only be deleted if $PDF_3$ exists."
   ]
  },
  {
   "cell_type": "markdown",
   "id": "written-ladder",
   "metadata": {},
   "source": [
    "## Initialise Items to update/delete\n",
    "\n",
    "**NOTE**: Duplicates without DOI not ISBN numbers are going to be ignored! "
   ]
  },
  {
   "cell_type": "code",
   "execution_count": null,
   "id": "textile-single",
   "metadata": {},
   "outputs": [],
   "source": [
    "print(\"Resolving duplicates...\")\n",
    "# sort items by DOI\n",
    "by_doi = get_items_by_doi_or_isbn(lib_items)        \n",
    "delete_items = []\n",
    "update_items = []\n",
    "for doi, items in by_doi.items():\n",
    "    # print(f\"doi/isbn: {doi}, n: {len(items)}\")\n",
    "    if len(items) == 1:\n",
    "        continue\n",
    "\n",
    "    # sort by age. oldest first\n",
    "    items.sort(key=date_added)\n",
    "    # keep oldest item\n",
    "    keep = items[0]\n",
    "    # keep latest attachments\n",
    "    keep_cs = zot.children(keep[\"key\"])\n",
    "    duplicates_have_pdf = False\n",
    "    for item in items[-1:0:-1]:\n",
    "        cs = zot.children(item[\"key\"])\n",
    "        if cs:\n",
    "            for c in cs:\n",
    "                c[\"data\"][\"parentItem\"] = keep[\"key\"]\n",
    "                if attachment_is_pdf(c):\n",
    "                    duplicates_have_pdf = True\n",
    "                \n",
    "            update_items.extend(cs)\n",
    "            if DELETE_OWN_ATTACHMENTS and duplicates_have_pdf:\n",
    "                delete_items.extend(keep_cs)\n",
    "\n",
    "            break  # cause, only the newest attachements are added\n",
    "\n",
    "    delete_items.extend(items[1:])\n",
    "\n",
    "\n",
    "print(f\">> Items to update: {len(update_items)}\")\n",
    "for u in update_items:\n",
    "    log_item(u)\n",
    "    \n",
    "print(f\">> Items to delete: {len(delete_items)}\")\n",
    "for d in delete_items:\n",
    "    log_item(d)\n",
    "    "
   ]
  },
  {
   "cell_type": "markdown",
   "id": "charged-stock",
   "metadata": {},
   "source": [
    "## Update and delete duplicate items\n",
    "\n",
    "**WARNING**: This cell changes the library on the server\n",
    "\n",
    "Here, items will be updated and deleted."
   ]
  },
  {
   "cell_type": "code",
   "execution_count": null,
   "id": "found-zealand",
   "metadata": {},
   "outputs": [],
   "source": [
    "print(\"Updating library ...\")\n",
    "# update first, so we don't delete parents of items we want to keep\n",
    "for update_item in update_items:\n",
    "    zot.update_item(update_item)\n",
    "    log_item(update_item) \n",
    "    \n",
    "print(\"Deleting from library ...\")    \n",
    "# now delete: DANGER AREA!\n",
    "for delete_item in delete_items:\n",
    "    zot.delete_item(delete_item)\n",
    "    log_item(delete_item) \n",
    "\n",
    "T = dt.datetime.now()\n",
    "print(f\"Done at {T.hour}:{T.minute}:{T.second}\")"
   ]
  },
  {
   "cell_type": "markdown",
   "id": "specialized-cabinet",
   "metadata": {},
   "source": [
    "# Report \n",
    "\n",
    "- items with duplicate attachments\n",
    "- standalone items\n",
    "- Trash status"
   ]
  },
  {
   "cell_type": "code",
   "execution_count": null,
   "id": "superb-violation",
   "metadata": {},
   "outputs": [],
   "source": [
    "zot, lib_items = retrieve_data() # since library has been updated"
   ]
  },
  {
   "cell_type": "code",
   "execution_count": null,
   "id": "respective-diana",
   "metadata": {
    "tags": []
   },
   "outputs": [],
   "source": [
    "print(\"Resolving duplicates ...\")\n",
    "items_duplicate_attach = []\n",
    "duplicate_items_by_title = defaultdict(list)\n",
    "\n",
    "for item in lib_items:\n",
    "    if is_standalone(item):\n",
    "        continue \n",
    "        \n",
    "    key = item[\"data\"][\"key\"]\n",
    "    if item[\"meta\"][\"numChildren\"] > 1:\n",
    "        items_duplicate_attach.append(item)\n",
    "\n",
    "    if \"attachment\" in item[\"links\"].keys():\n",
    "        attach = item[\"links\"][\"attachment\"][\"href\"].split(\"/\")[-1]\n",
    "        type_attach = item[\"links\"][\"attachment\"][\"attachmentType\"]\n",
    "\n",
    "    else:\n",
    "        attach = \"NO_ATTACHMENT\"\n",
    "        type_attach = \"NO_TYPE\"\n",
    "\n",
    "    iType = item[\"data\"][\"itemType\"]\n",
    "    Title = item[\"data\"][\"title\"]\n",
    "    duplicate_items_by_title[iType].append(Title.capitalize())\n",
    "    creators = item[\"data\"][\"creators\"]  # could be author or editor\n",
    "    firstname = \"UNKNOWN\"\n",
    "    lastname = \"UNKNOWN\"\n",
    "    for creator in creators:\n",
    "        if creator[\"creatorType\"] == \"author\":\n",
    "            firstname = creator[\"firstName\"]\n",
    "            lastname = creator[\"lastName\"]\n",
    "            break\n",
    "\n",
    "\n",
    "#     print(f\"\"\"\n",
    "#     Key: {key}\n",
    "#     Title: {item['data']['title']}\n",
    "#     Author: {firstname}, {lastname}\n",
    "#     File: {attach} | Type: {type_attach}\n",
    "#     Num Attach: {item['meta']['numChildren']}\n",
    "#     ----\"\"\")\n",
    "\n",
    "for Type in duplicate_items_by_title.keys():\n",
    "    num_duplicates_items = len(duplicate_items_by_title[Type]) - len(\n",
    "        set(duplicate_items_by_title[Type])\n",
    "    )\n",
    "    if num_duplicates_items:\n",
    "        print(f\">> {num_duplicates_items} duplicate items of type <{Type}>\")\n",
    "        print(f\">> {duplicate_items_by_title[Type][0]}\")\n",
    "    else:\n",
    "        print(\"No duplicates found!\")\n",
    "\n",
    "    \n",
    "print(\"Check standalone items ...\")    \n",
    "for standalone_item in get_standalone_items(lib_items):\n",
    "    log_item(standalone_item)\n",
    "    \n",
    "# Check if Trash is empty\n",
    "if len(zot.trash()) > 0:\n",
    "    print(\"\\n----\\nTrash is not empty. Consider emptying it!\")\n",
    "else:\n",
    "    print(\"\\n----\\nTrash is empty!\")"
   ]
  }
 ],
 "metadata": {
  "kernelspec": {
   "display_name": "Python 3",
   "language": "python",
   "name": "python3"
  },
  "language_info": {
   "codemirror_mode": {
    "name": "ipython",
    "version": 3
   },
   "file_extension": ".py",
   "mimetype": "text/x-python",
   "name": "python",
   "nbconvert_exporter": "python",
   "pygments_lexer": "ipython3",
   "version": "3.9.10"
  }
 },
 "nbformat": 4,
 "nbformat_minor": 5
}
